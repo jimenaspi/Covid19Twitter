{
 "cells": [
  {
   "cell_type": "code",
   "execution_count": 25,
   "id": "320aaba3",
   "metadata": {},
   "outputs": [
    {
     "name": "stdout",
     "output_type": "stream",
     "text": [
      "Dash is running on http://127.0.0.1:8050/\n",
      "\n",
      "Dash is running on http://127.0.0.1:8050/\n",
      "\n",
      " * Serving Flask app '__main__' (lazy loading)\n",
      " * Environment: production\n",
      "\u001b[31m   WARNING: This is a development server. Do not use it in a production deployment.\u001b[0m\n",
      "\u001b[2m   Use a production WSGI server instead.\u001b[0m\n",
      " * Debug mode: on\n"
     ]
    },
    {
     "ename": "OSError",
     "evalue": "[Errno 48] Address already in use",
     "output_type": "error",
     "traceback": [
      "\u001b[0;31m---------------------------------------------------------------------------\u001b[0m",
      "\u001b[0;31mOSError\u001b[0m                                   Traceback (most recent call last)",
      "\u001b[0;32m/var/folders/2r/dxh5vfq12h7bhlg2f88kpl440000gn/T/ipykernel_36183/2031576636.py\u001b[0m in \u001b[0;36m<module>\u001b[0;34m\u001b[0m\n\u001b[1;32m     67\u001b[0m \u001b[0;32mif\u001b[0m \u001b[0m__name__\u001b[0m \u001b[0;34m==\u001b[0m \u001b[0;34m'__main__'\u001b[0m\u001b[0;34m:\u001b[0m\u001b[0;34m\u001b[0m\u001b[0;34m\u001b[0m\u001b[0m\n\u001b[1;32m     68\u001b[0m     \u001b[0;31m#app.run_server(debug=True)\u001b[0m\u001b[0;34m\u001b[0m\u001b[0;34m\u001b[0m\u001b[0;34m\u001b[0m\u001b[0m\n\u001b[0;32m---> 69\u001b[0;31m     \u001b[0mapp\u001b[0m\u001b[0;34m.\u001b[0m\u001b[0mrun_server\u001b[0m\u001b[0;34m(\u001b[0m\u001b[0mdebug\u001b[0m\u001b[0;34m=\u001b[0m\u001b[0;32mTrue\u001b[0m\u001b[0;34m,\u001b[0m \u001b[0mhost\u001b[0m \u001b[0;34m=\u001b[0m \u001b[0;34m'127.0.0.1'\u001b[0m\u001b[0;34m)\u001b[0m\u001b[0;34m\u001b[0m\u001b[0;34m\u001b[0m\u001b[0m\n\u001b[0m",
      "\u001b[0;32m~/opt/anaconda3/lib/python3.8/site-packages/dash/dash.py\u001b[0m in \u001b[0;36mrun_server\u001b[0;34m(self, host, port, proxy, debug, dev_tools_ui, dev_tools_props_check, dev_tools_serve_dev_bundles, dev_tools_hot_reload, dev_tools_hot_reload_interval, dev_tools_hot_reload_watch_interval, dev_tools_hot_reload_max_retry, dev_tools_silence_routes_logging, dev_tools_prune_errors, **flask_run_options)\u001b[0m\n\u001b[1;32m   2031\u001b[0m                     \u001b[0mextra_files\u001b[0m\u001b[0;34m.\u001b[0m\u001b[0mappend\u001b[0m\u001b[0;34m(\u001b[0m\u001b[0mpath\u001b[0m\u001b[0;34m)\u001b[0m\u001b[0;34m\u001b[0m\u001b[0;34m\u001b[0m\u001b[0m\n\u001b[1;32m   2032\u001b[0m \u001b[0;34m\u001b[0m\u001b[0m\n\u001b[0;32m-> 2033\u001b[0;31m         \u001b[0mself\u001b[0m\u001b[0;34m.\u001b[0m\u001b[0mserver\u001b[0m\u001b[0;34m.\u001b[0m\u001b[0mrun\u001b[0m\u001b[0;34m(\u001b[0m\u001b[0mhost\u001b[0m\u001b[0;34m=\u001b[0m\u001b[0mhost\u001b[0m\u001b[0;34m,\u001b[0m \u001b[0mport\u001b[0m\u001b[0;34m=\u001b[0m\u001b[0mport\u001b[0m\u001b[0;34m,\u001b[0m \u001b[0mdebug\u001b[0m\u001b[0;34m=\u001b[0m\u001b[0mdebug\u001b[0m\u001b[0;34m,\u001b[0m \u001b[0;34m**\u001b[0m\u001b[0mflask_run_options\u001b[0m\u001b[0;34m)\u001b[0m\u001b[0;34m\u001b[0m\u001b[0;34m\u001b[0m\u001b[0m\n\u001b[0m",
      "\u001b[0;32m~/opt/anaconda3/lib/python3.8/site-packages/flask/app.py\u001b[0m in \u001b[0;36mrun\u001b[0;34m(self, host, port, debug, load_dotenv, **options)\u001b[0m\n\u001b[1;32m    918\u001b[0m \u001b[0;34m\u001b[0m\u001b[0m\n\u001b[1;32m    919\u001b[0m         \u001b[0;32mtry\u001b[0m\u001b[0;34m:\u001b[0m\u001b[0;34m\u001b[0m\u001b[0;34m\u001b[0m\u001b[0m\n\u001b[0;32m--> 920\u001b[0;31m             \u001b[0mrun_simple\u001b[0m\u001b[0;34m(\u001b[0m\u001b[0mt\u001b[0m\u001b[0;34m.\u001b[0m\u001b[0mcast\u001b[0m\u001b[0;34m(\u001b[0m\u001b[0mstr\u001b[0m\u001b[0;34m,\u001b[0m \u001b[0mhost\u001b[0m\u001b[0;34m)\u001b[0m\u001b[0;34m,\u001b[0m \u001b[0mport\u001b[0m\u001b[0;34m,\u001b[0m \u001b[0mself\u001b[0m\u001b[0;34m,\u001b[0m \u001b[0;34m**\u001b[0m\u001b[0moptions\u001b[0m\u001b[0;34m)\u001b[0m\u001b[0;34m\u001b[0m\u001b[0;34m\u001b[0m\u001b[0m\n\u001b[0m\u001b[1;32m    921\u001b[0m         \u001b[0;32mfinally\u001b[0m\u001b[0;34m:\u001b[0m\u001b[0;34m\u001b[0m\u001b[0;34m\u001b[0m\u001b[0m\n\u001b[1;32m    922\u001b[0m             \u001b[0;31m# reset the first request information if the development server\u001b[0m\u001b[0;34m\u001b[0m\u001b[0;34m\u001b[0m\u001b[0;34m\u001b[0m\u001b[0m\n",
      "\u001b[0;32m~/opt/anaconda3/lib/python3.8/site-packages/werkzeug/serving.py\u001b[0m in \u001b[0;36mrun_simple\u001b[0;34m(hostname, port, application, use_reloader, use_debugger, use_evalex, extra_files, exclude_patterns, reloader_interval, reloader_type, threaded, processes, request_handler, static_files, passthrough_errors, ssl_context)\u001b[0m\n\u001b[1;32m    980\u001b[0m             \u001b[0ms\u001b[0m \u001b[0;34m=\u001b[0m \u001b[0msocket\u001b[0m\u001b[0;34m.\u001b[0m\u001b[0msocket\u001b[0m\u001b[0;34m(\u001b[0m\u001b[0maddress_family\u001b[0m\u001b[0;34m,\u001b[0m \u001b[0msocket\u001b[0m\u001b[0;34m.\u001b[0m\u001b[0mSOCK_STREAM\u001b[0m\u001b[0;34m)\u001b[0m\u001b[0;34m\u001b[0m\u001b[0;34m\u001b[0m\u001b[0m\n\u001b[1;32m    981\u001b[0m             \u001b[0ms\u001b[0m\u001b[0;34m.\u001b[0m\u001b[0msetsockopt\u001b[0m\u001b[0;34m(\u001b[0m\u001b[0msocket\u001b[0m\u001b[0;34m.\u001b[0m\u001b[0mSOL_SOCKET\u001b[0m\u001b[0;34m,\u001b[0m \u001b[0msocket\u001b[0m\u001b[0;34m.\u001b[0m\u001b[0mSO_REUSEADDR\u001b[0m\u001b[0;34m,\u001b[0m \u001b[0;36m1\u001b[0m\u001b[0;34m)\u001b[0m\u001b[0;34m\u001b[0m\u001b[0;34m\u001b[0m\u001b[0m\n\u001b[0;32m--> 982\u001b[0;31m             \u001b[0ms\u001b[0m\u001b[0;34m.\u001b[0m\u001b[0mbind\u001b[0m\u001b[0;34m(\u001b[0m\u001b[0mserver_address\u001b[0m\u001b[0;34m)\u001b[0m\u001b[0;34m\u001b[0m\u001b[0;34m\u001b[0m\u001b[0m\n\u001b[0m\u001b[1;32m    983\u001b[0m             \u001b[0ms\u001b[0m\u001b[0;34m.\u001b[0m\u001b[0mset_inheritable\u001b[0m\u001b[0;34m(\u001b[0m\u001b[0;32mTrue\u001b[0m\u001b[0;34m)\u001b[0m\u001b[0;34m\u001b[0m\u001b[0;34m\u001b[0m\u001b[0m\n\u001b[1;32m    984\u001b[0m \u001b[0;34m\u001b[0m\u001b[0m\n",
      "\u001b[0;31mOSError\u001b[0m: [Errno 48] Address already in use"
     ]
    }
   ],
   "source": [
    "'''libraries list with help showing the version of the libraries being used in this nodebook'''\n",
    "libraries = []\n",
    "\n",
    "'''Datasets, arrays and files '''\n",
    "import pandas as pd\n",
    "import numpy as np\n",
    "import pickle\n",
    "import json\n",
    "libraries.append('pandas')\n",
    "libraries.append('numpy')\n",
    "libraries.append('pickle')\n",
    "libraries.append('json')\n",
    "\n",
    "'''Following progress'''\n",
    "from tqdm.notebook import tqdm\n",
    "libraries.append('tqdm')\n",
    "\n",
    "'''Plots'''\n",
    "%matplotlib notebook\n",
    "\n",
    "import matplotlib.pyplot as plt\n",
    "import matplotlib.cm as cm\n",
    "from mpldatacursor import datacursor\n",
    "from mpldatacursor import HighlightingDataCursor\n",
    "import seaborn as sns\n",
    "plt.style.use('seaborn-paper')\n",
    "plt.rcParams[\"figure.facecolor\"] = \"w\"\n",
    "\n",
    "\n",
    "import dash\n",
    "import dash_core_components as dcc\n",
    "import dash_html_components as html\n",
    "\n",
    "import plotly.graph_objs as go\n",
    "from colour import Color\n",
    "from datetime import datetime\n",
    "from textwrap import dedent as d\n",
    "from pyvis.network import Network\n",
    "libraries.append('dash')\n",
    "libraries.append('plotly')\n",
    "libraries.append('colour')\n",
    "libraries.append('textwrap')\n",
    "libraries.append('pyvis')\n",
    "libraries.append('matplotlib')\n",
    "libraries.append('mpldatacursor')\n",
    "libraries.append('seaborn')\n",
    "                 \n",
    "'''Networks and community detection'''\n",
    "import networkx as nx\n",
    "import igraph as ig\n",
    "from sklearn import cluster\n",
    "libraries.append('networkx')\n",
    "libraries.append('igraph')\n",
    "\n",
    "\n",
    "'''Pthon and library version'''\n",
    "import types\n",
    "import pkg_resources\n",
    "import sys\n",
    "from platform import python_version\n",
    "\n",
    "external_stylesheets = ['https://codepen.io/chriddyp/pen/bWLwgP.css']\n",
    "app = dash.Dash(__name__, external_stylesheets=external_stylesheets)\n",
    "\n",
    "app.title = \"Transaction Network\"\n",
    "\n",
    "if __name__ == '__main__':\n",
    "    #app.run_server(debug=True)\n",
    "    app.run_server(debug=True, host = '127.0.0.1')\n"
   ]
  },
  {
   "cell_type": "code",
   "execution_count": 26,
   "id": "c1629924",
   "metadata": {},
   "outputs": [
    {
     "data": {
      "text/plain": [
       "[(<AddressFamily.AF_INET: 2>,\n",
       "  <SocketKind.SOCK_STREAM: 1>,\n",
       "  6,\n",
       "  '',\n",
       "  ('10.0.0.182', 0))]"
      ]
     },
     "execution_count": 26,
     "metadata": {},
     "output_type": "execute_result"
    }
   ],
   "source": [
    "import socket\n",
    "socket.gethostname()\n",
    "\n",
    "port = 0\n",
    "socket.getaddrinfo(socket.gethostname(), port, socket.AF_INET, socket.SOCK_STREAM)"
   ]
  },
  {
   "cell_type": "code",
   "execution_count": 27,
   "id": "d55b96db",
   "metadata": {},
   "outputs": [
    {
     "name": "stdout",
     "output_type": "stream",
     "text": [
      "Version of python installed: 3.8.10 (default, May 19 2021, 11:01:55) \n",
      "[Clang 10.0.0 ]\n",
      "Version of python being used: 3.8.10\n",
      "\n",
      "Non-built in libraries being used:\n",
      "tqdm, version 4.62.3\n",
      "seaborn, version 0.11.2\n",
      "pyvis, version 0.1.9\n",
      "plotly, version 5.1.0\n",
      "pandas, version 1.3.3\n",
      "numpy, version 1.19.2\n",
      "networkx, version 2.6.3\n",
      "mpldatacursor, version 0.7.1\n",
      "matplotlib, version 3.4.3\n",
      "dash, version 2.0.0\n",
      "colour, version 0.1.5\n"
     ]
    }
   ],
   "source": [
    "'''To display version of Software being used'''\n",
    "print('Version of python installed: {}' .format(sys.version))\n",
    "print('Version of python being used: {}' .format(python_version()))\n",
    "print('\\nNon-built in libraries being used:')\n",
    "\n",
    "for m in pkg_resources.working_set:\n",
    "    if m.project_name.lower() in libraries:\n",
    "        print('{}, version {}'.format(m.project_name,m.version))"
   ]
  },
  {
   "cell_type": "code",
   "execution_count": 28,
   "id": "568123f4",
   "metadata": {},
   "outputs": [],
   "source": [
    "def add_edges(G,nt, val):\n",
    "    #def add_edges(G, nt, val):\n",
    "    '''Where G is the graph containing all the properties, and val is the measure that we\n",
    "    want to generate to be ploted in the interactive visualization (it needs to be labelled\n",
    "    as 'value')'''\n",
    "    for e1, e2, dic in G.edges(data=True):\n",
    "        w = dic['weight']\n",
    "        c = dic['correlation']\n",
    "        s = dic['similarity']\n",
    "        if val == 'weight':\n",
    "            v = w\n",
    "            n = 10\n",
    "        elif val == 'correlation':\n",
    "            v = c\n",
    "            n = 1/10\n",
    "        elif val == 'similarity':\n",
    "            v = s\n",
    "            n = 5\n",
    "        nt.add_edge(e1, e2, value = (v/n))"
   ]
  },
  {
   "cell_type": "code",
   "execution_count": 29,
   "id": "a61f9f96",
   "metadata": {},
   "outputs": [],
   "source": [
    "'''To retrieve the networks information'''\n",
    "G_01 = nx.read_gpickle(\"../_generated_data/Net_1v3.gpickle\")\n",
    "G_02 = nx.read_gpickle(\"../_generated_data/Net_2v3.gpickle\")\n",
    "G_03 = nx.read_gpickle(\"../_generated_data/Net_3v3.gpickle\")"
   ]
  },
  {
   "cell_type": "code",
   "execution_count": 30,
   "id": "bbb3b257",
   "metadata": {},
   "outputs": [
    {
     "data": {
      "text/plain": [
       "{'weight': 0.003265655453962751,\n",
       " 'similarity': 9,\n",
       " 'correlation': {'correlation': -0.21981545969429406}}"
      ]
     },
     "execution_count": 30,
     "metadata": {},
     "output_type": "execute_result"
    }
   ],
   "source": [
    "G_01['ig_street']['covid19'] #To check the measures of an edge"
   ]
  },
  {
   "cell_type": "code",
   "execution_count": 31,
   "id": "a2548419",
   "metadata": {
    "scrolled": true
   },
   "outputs": [
    {
     "data": {
      "text/plain": [
       "NodeDataView({'coronavirus': 0, 'lilbaby': 0, 'lilwayne': 0, 'kjmg': 0, 'growinsilence': 0, 'mindonamillion': 0, 'yourpage': 0, 'sequester': 1, 'abandoned': 1, 'covid_19': 2, 'bw': 2, 'bnw': 2, 'cityscape': 2, 'lensculture': 2, 'streetphotographer': 2, 'urbanstreetphotogallery': 2, 'acros': 2, 'photodocumentary': 2, 'ig_street': 2, 'urbanstreetphotography': 2, 'spicollective': 2, 'classicnegative': 2, 'w8time': 2, 'stayhome': 3, 'hamont': 3, 'crackilton': 3, 'crackiltonOMT': 3, 'squeegeekid': 3, 'carnystories': 3, 'setomas': 3, 'selfpublish': 3, 'lockdown': 4, 'transformers': 4, 'angrybirdstransformers': 4, 'angrybirds': 4, 'decepticons': 4, 'iosgames': 4, 'pandemic': 0, 'viralvideos': 0, 'shelterinplace': 8, 'inthistogether': 8, 'lovelife': 8, 'loveoneanother': 8, 'qurantinelife': 8, 'covid19': 2, 'faceshield': 6, 'SaveTheWorld': 6, 'BillionShieldsChallenge': 6, 'BillionShields': 6, 'Bottles2Shields': 6, 'justlikethat': 8, 'thisis51': 7, 'db365': 7, 'sweatyselfie': 7, 'virus': 3, 'emptystreets': 3, 'emptynyc': 3, 'nycshutdown': 3, 'covid': 1, 'Coronavirus': 6, 'MayThe4thBeWithYou': 6, 'ExOWorldNow': 6, 'Masks4All': 6, 'TogetherAtHome': 6, 'earthday': 6, 'culvercity': 8, 'c4jforever': 8, 'mit': 6, 'LOCKDOWN2020': 6, 'Chicago': 9, 'Google': 9, 'COVID19': 3, 'JamminJo': 10, 'JoAnnBush': 10, 'hiphop': 0, 'trending': 0, 'isolation': 3, 'catsofinstagram': 11, 'cats': 11, 'cat': 11, 'loveyourself': 8, 'citylife': 8, 'Virus': 9, 'Corona': 9, 'BeSafe': 9, 'Health': 9, 'Eat': 9, 'Art': 9, 'Nyc': 9, 'Brooklyn': 9, 'ArtAddict': 9, 'K': 9, 'Stealth': 9, 'Wealth': 9, 'Lurking': 9, 'workfromhome': 12, 'financialprofessional': 12, 'supersinghs': 12, 'foodporn': 13, 'foodphotography': 13, 'foodstagram': 13, 'architecture': 2, 'comedy': 14, 'pnandfriends': 14, 'pnisawesome': 14, 'realestate': 15, 'realtor': 15, 'covi̇d19': 16, 'covid19toronto': 16, 'stayhomesavelives': 17, 'instagay': 17, 'Quarantine': 9, 'Covid_19': 10, 'DazzlingDanette': 9, 'Covid': 6, 'vote': 18, 'bidenharris2020': 18, 'CoronaVirus': 10, 'Repost': 14, 'Covid19': 9, 'Canada': 9, 'Featured': 9, 'NEWS': 9, 'India': 9, 'Entertainment': 9, 'Bollywood': 9, 'Ontario': 9, 'mask': 1, 'safetyfirst': 19, 'masked': 19, 'flattenthecurve': 8, 'dailywalk': 8, 'neighborhoodwalk': 8, 'itsbetteroutside': 8, 'motherdaughtertime': 8, 'safety': 2, 'USA': 9, 'masks': 1, 'coronaviruspandemic': 1, 'food': 13, 'neighborhood': 20, 'community': 20, 'walkingthedog': 20, 'doingmypart': 21, 'wearamask': 21, 'savelives': 21, 'coronavirüsü': 21, 'wewillsurvive': 21, 'cooperiscute': 21, 'fyp': 22, 'CORONAVIRUS': 22, 'canonphotography': 23, 'nofilter': 23, 'canonphotographer': 23, 'coronaqueensnyc': 23, 'canon77d': 23, '24mm70mmf4': 23, 'unedited': 23, 'coronaqueens': 23, 'thankyou': 19, 'StayHome': 24, 'StaySafe': 24, 'liberalismisamentaldisorder': 25, 'vaccine': 25, 'sunset': 8, 'dankmedia': 8, 'dankvenice': 8, '366photo': 8, 'zoom': 12, 'friendship': 8, 'foodie': 26, 'travelgram': 26, 'hungry': 26, 'Yummy': 26, 'visitLosAngeles': 26, 'foodbesat': 26, 'eatLA': 26, 'feastagrem': 26, 'lovefood': 26, 'onthetable': 26, 'seriouseats': 26, 'stayhomesafer': 26, 'yumYum': 26, 'Delicious': 26, 'Tasty': 26, 'school': 27, 'homeschool': 27, 'dtla': 26, 'photoshoot': 28, 'followme': 28, 'losangeles': 8, 'artwork': 29, 'painting': 29, 'california': 8, 'graffiti': 2, 'nyc': 23, 'homeworkout': 7, '30daysofmovement': 7, 'PAUSElifeNYC': 7, 'clouds': 8, 'humanity': 19, 'eyes': 19, 'beastmode': 8, 'LosAngeles': 10, 'CA': 10, 'hollywood': 8, 'Houston': 9, 'mma': 28, 'queens': 23, 'iparkmusic': 30, 'oobang': 30, 'riverside': 31, 'torontophoto': 31, 'earthquake': 10, 'venice': 8, 'venicebeach': 8, 'abc7eyewitness': 8, 'goldenhour': 8, 'brooklyn': 20, 'NewYork': 32, 'Manhattan': 32, 'toronto': 16, 'coronavirusnyc': 7, 'BLM': 9, 'timeoutnewyork': 33, 'artonlink': 33, 'ny1pic': 33, 'Community': 9, 'RealEstate': 9, 'Business': 9, 'LAtraffic': 9, 'WFH': 34, 'Fitness': 34, 'NewYorkCity': 9, 'SocialDistance': 35, 'BeatThePandemic': 6, 'WearAMask': 10, 'CoVid19': 9, 'GMNuStudio': 35, 'support81worldwide': 5, 'support81longisland': 5, 'support81newyorkcity': 5}, data='group')"
      ]
     },
     "execution_count": 31,
     "metadata": {},
     "output_type": "execute_result"
    }
   ],
   "source": [
    "G_01.nodes(data='group')"
   ]
  },
  {
   "cell_type": "code",
   "execution_count": 32,
   "id": "03c23851",
   "metadata": {},
   "outputs": [
    {
     "data": {
      "text/plain": [
       "NodeDataView({'Coronavirus': {'group': 6, 'color': (0.20125317221201128, 0.6907920815379025, 0.47966761189275336)}, 'MayThe4thBeWithYou': {'group': 6, 'color': (0.20125317221201128, 0.6907920815379025, 0.47966761189275336)}, 'faceshield': {'group': 6, 'color': (0.20125317221201128, 0.6907920815379025, 0.47966761189275336)}, 'SaveTheWorld': {'group': 6, 'color': (0.20125317221201128, 0.6907920815379025, 0.47966761189275336)}, 'BillionShieldsChallenge': {'group': 6, 'color': (0.20125317221201128, 0.6907920815379025, 0.47966761189275336)}, 'ExOWorldNow': {'group': 6, 'color': (0.20125317221201128, 0.6907920815379025, 0.47966761189275336)}, 'BillionShields': {'group': 6, 'color': (0.20125317221201128, 0.6907920815379025, 0.47966761189275336)}, 'Bottles2Shields': {'group': 6, 'color': (0.20125317221201128, 0.6907920815379025, 0.47966761189275336)}, 'Masks4All': {'group': 6, 'color': (0.20125317221201128, 0.6907920815379025, 0.47966761189275336)}, 'TogetherAtHome': {'group': 6, 'color': (0.20125317221201128, 0.6907920815379025, 0.47966761189275336)}, 'workfromhome': {'group': 11, 'color': (0.5830408541921136, 0.5695319215803094, 0.9583591966369759)}, 'financialprofessional': {'group': 11, 'color': (0.5830408541921136, 0.5695319215803094, 0.9583591966369759)}, 'supersinghs': {'group': 11, 'color': (0.5830408541921136, 0.5695319215803094, 0.9583591966369759)}, 'Covid': {'group': 6, 'color': (0.20125317221201128, 0.6907920815379025, 0.47966761189275336)}, 'bw': {'group': 10, 'color': (0.23299120924703914, 0.639586552066035, 0.9260706093977744)}, 'bnw': {'group': 10, 'color': (0.23299120924703914, 0.639586552066035, 0.9260706093977744)}, 'cityscape': {'group': 10, 'color': (0.23299120924703914, 0.639586552066035, 0.9260706093977744)}, 'lensculture': {'group': 10, 'color': (0.23299120924703914, 0.639586552066035, 0.9260706093977744)}, 'streetphotographer': {'group': 10, 'color': (0.23299120924703914, 0.639586552066035, 0.9260706093977744)}, 'urbanstreetphotogallery': {'group': 10, 'color': (0.23299120924703914, 0.639586552066035, 0.9260706093977744)}, 'photodocumentary': {'group': 10, 'color': (0.23299120924703914, 0.639586552066035, 0.9260706093977744)}, 'ig_street': {'group': 10, 'color': (0.23299120924703914, 0.639586552066035, 0.9260706093977744)}, 'urbanstreetphotography': {'group': 10, 'color': (0.23299120924703914, 0.639586552066035, 0.9260706093977744)}, 'spicollective': {'group': 10, 'color': (0.23299120924703914, 0.639586552066035, 0.9260706093977744)}, 'viralvideos': {'group': 14, 'color': (0.9642903119819891, 0.41420146582831974, 0.7188681186026104)}, 'lilbaby': {'group': 14, 'color': (0.9642903119819891, 0.41420146582831974, 0.7188681186026104)}, 'lilwayne': {'group': 14, 'color': (0.9642903119819891, 0.41420146582831974, 0.7188681186026104)}, 'kjmg': {'group': 14, 'color': (0.9642903119819891, 0.41420146582831974, 0.7188681186026104)}, 'growinsilence': {'group': 14, 'color': (0.9642903119819891, 0.41420146582831974, 0.7188681186026104)}, 'mindonamillion': {'group': 14, 'color': (0.9642903119819891, 0.41420146582831974, 0.7188681186026104)}, 'yourpage': {'group': 14, 'color': (0.9642903119819891, 0.41420146582831974, 0.7188681186026104)}, 'coronaviruspandemic': {'group': 0, 'color': (0.9677975592919913, 0.44127456009157356, 0.5358103155058701)}, 'sequester': {'group': 0, 'color': (0.9677975592919913, 0.44127456009157356, 0.5358103155058701)}, 'abandoned': {'group': 0, 'color': (0.9677975592919913, 0.44127456009157356, 0.5358103155058701)}, 'classicnegative': {'group': 10, 'color': (0.23299120924703914, 0.639586552066035, 0.9260706093977744)}, 'Featured': {'group': 3, 'color': (0.6804189127793346, 0.6151497514677574, 0.19405452111445337)}, 'NEWS': {'group': 3, 'color': (0.6804189127793346, 0.6151497514677574, 0.19405452111445337)}, 'India': {'group': 3, 'color': (0.6804189127793346, 0.6151497514677574, 0.19405452111445337)}, 'Corona': {'group': 5, 'color': (0.3126890019504329, 0.6928754610296064, 0.1923704830330379)}, 'LAtraffic': {'group': 5, 'color': (0.3126890019504329, 0.6928754610296064, 0.1923704830330379)}, 'BeatThePandemic': {'group': 6, 'color': (0.20125317221201128, 0.6907920815379025, 0.47966761189275336)}, 'earthday': {'group': 6, 'color': (0.20125317221201128, 0.6907920815379025, 0.47966761189275336)}, 'iosgames': {'group': 8, 'color': (0.21316806282417172, 0.6731234926210208, 0.6838056741516414)}, 'transformers': {'group': 8, 'color': (0.21316806282417172, 0.6731234926210208, 0.6838056741516414)}, 'angrybirdstransformers': {'group': 8, 'color': (0.21316806282417172, 0.6731234926210208, 0.6838056741516414)}, 'angrybirds': {'group': 8, 'color': (0.21316806282417172, 0.6731234926210208, 0.6838056741516414)}, 'decepticons': {'group': 8, 'color': (0.21316806282417172, 0.6731234926210208, 0.6838056741516414)}, 'thisis51': {'group': 9, 'color': (0.21979956608283252, 0.6625157876850336, 0.7732093159317208)}, 'db365': {'group': 9, 'color': (0.21979956608283252, 0.6625157876850336, 0.7732093159317208)}, '30daysofmovement': {'group': 9, 'color': (0.21979956608283252, 0.6625157876850336, 0.7732093159317208)}, 'sweatyselfie': {'group': 9, 'color': (0.21979956608283252, 0.6625157876850336, 0.7732093159317208)}, 'PAUSElifeNYC': {'group': 9, 'color': (0.21979956608283252, 0.6625157876850336, 0.7732093159317208)}, 'hamont': {'group': 12, 'color': (0.8004936186423958, 0.47703363533737203, 0.9579547196007522)}, 'crackilton': {'group': 12, 'color': (0.8004936186423958, 0.47703363533737203, 0.9579547196007522)}, 'crackiltonOMT': {'group': 12, 'color': (0.8004936186423958, 0.47703363533737203, 0.9579547196007522)}, 'squeegeekid': {'group': 12, 'color': (0.8004936186423958, 0.47703363533737203, 0.9579547196007522)}, 'carnystories': {'group': 12, 'color': (0.8004936186423958, 0.47703363533737203, 0.9579547196007522)}, 'setomas': {'group': 12, 'color': (0.8004936186423958, 0.47703363533737203, 0.9579547196007522)}, 'selfpublish': {'group': 12, 'color': (0.8004936186423958, 0.47703363533737203, 0.9579547196007522)}, 'dailywalk': {'group': 13, 'color': (0.9596479078308885, 0.3748291312853888, 0.8930044537663009)}, 'neighborhoodwalk': {'group': 13, 'color': (0.9596479078308885, 0.3748291312853888, 0.8930044537663009)}, 'itsbetteroutside': {'group': 13, 'color': (0.9596479078308885, 0.3748291312853888, 0.8930044537663009)}, 'motherdaughtertime': {'group': 13, 'color': (0.9596479078308885, 0.3748291312853888, 0.8930044537663009)}, 'mit': {'group': 6, 'color': (0.20125317221201128, 0.6907920815379025, 0.47966761189275336)}, 'LOCKDOWN2020': {'group': 6, 'color': (0.20125317221201128, 0.6907920815379025, 0.47966761189275336)}, 'SocialDistance': {'group': 1, 'color': (0.9542900080364486, 0.4779505175890752, 0.1963917622115608)}, 'GMNuStudio': {'group': 1, 'color': (0.9542900080364486, 0.4779505175890752, 0.1963917622115608)}, 'JamminJo': {'group': 2, 'color': (0.7930046244373694, 0.5708100522446624, 0.19489531984381053)}, 'JoAnnBush': {'group': 2, 'color': (0.7930046244373694, 0.5708100522446624, 0.19489531984381053)}, 'Entertainment': {'group': 4, 'color': (0.5571803870240879, 0.6507747739933957, 0.19331667588333168)}, 'Bollywood': {'group': 4, 'color': (0.5571803870240879, 0.6507747739933957, 0.19331667588333168)}, 'support81worldwide': {'group': 7, 'color': (0.20774052347943134, 0.6813852191365138, 0.6002900398972028)}, 'support81longisland': {'group': 7, 'color': (0.20774052347943134, 0.6813852191365138, 0.6002900398972028)}, 'support81newyorkcity': {'group': 7, 'color': (0.20774052347943134, 0.6813852191365138, 0.6002900398972028)}})"
      ]
     },
     "execution_count": 32,
     "metadata": {},
     "output_type": "execute_result"
    }
   ],
   "source": [
    "G_03.nodes(data=True)"
   ]
  },
  {
   "cell_type": "code",
   "execution_count": 33,
   "id": "ac3caf52",
   "metadata": {},
   "outputs": [
    {
     "data": {
      "text/plain": [
       "35"
      ]
     },
     "execution_count": 33,
     "metadata": {},
     "output_type": "execute_result"
    }
   ],
   "source": [
    "n_groups = []\n",
    "for node, group in set(G_01.nodes(data='group')):\n",
    "    n_groups.append(group)\n",
    "n_groups = set(n_groups)\n",
    "max(n_groups)"
   ]
  },
  {
   "cell_type": "code",
   "execution_count": 34,
   "id": "bb6567b9",
   "metadata": {},
   "outputs": [
    {
     "data": {
      "text/plain": [
       "'#f77189'"
      ]
     },
     "execution_count": 34,
     "metadata": {},
     "output_type": "execute_result"
    }
   ],
   "source": [
    "palette = sns.color_palette(\"husl\", 6).as_hex()\n",
    "palette\n",
    "palette[0]"
   ]
  },
  {
   "cell_type": "code",
   "execution_count": 35,
   "id": "5356c42e",
   "metadata": {},
   "outputs": [],
   "source": [
    "def generate_html(val, G, id_):\n",
    "    '''To generate an html file, given a val measure from \n",
    "    value = ['weight', 'similarity', 'correlation'],\n",
    "    a network G and an id_ to name the file'''\n",
    "    \n",
    "    n_groups = []\n",
    "    for node, group in set(G.nodes(data='group')):\n",
    "        n_groups.append(group)\n",
    "    n_groups = set(n_groups)\n",
    "    max_group = max(n_groups)\n",
    "    \n",
    "    n = max_group + 1\n",
    "    palette = sns.color_palette(\"husl\", n).as_hex()\n",
    "   \n",
    "    for node in list(G.nodes()):\n",
    "        node_group = G.nodes(data=True)[node]['group'] \n",
    "        G.nodes[node]['color'] = palette[node_group]\n",
    "\n",
    "    H = G.copy()\n",
    "    H.remove_edges_from(list(H.edges())) \n",
    "    nx_graph = H #add edges only\n",
    "\n",
    "    nt = Network('700px', '700px', notebook=False)\n",
    "    \n",
    "    nt.force_atlas_2based()\n",
    "    #nt.barnes_hut()\n",
    "    nt.from_nx(nx_graph)\n",
    "    add_edges(G, nt, val) #add edges with value selected as property\n",
    "    nt.show_buttons(filter_=['physics'])\n",
    "    nt.show('../_generated_data/Net_'+val+id_+'.html')\n"
   ]
  },
  {
   "cell_type": "code",
   "execution_count": 36,
   "id": "eac01613",
   "metadata": {},
   "outputs": [],
   "source": [
    "generate_html('weight', G_01, 't01v3')"
   ]
  },
  {
   "cell_type": "code",
   "execution_count": 37,
   "id": "4e4d4d30",
   "metadata": {},
   "outputs": [],
   "source": [
    "generate_html('weight', G_02, 't02v3')"
   ]
  },
  {
   "cell_type": "code",
   "execution_count": 38,
   "id": "5e3167f8",
   "metadata": {},
   "outputs": [],
   "source": [
    "generate_html('weight', G_03, 't03v3')"
   ]
  },
  {
   "cell_type": "code",
   "execution_count": 16,
   "id": "8aeaf2c3",
   "metadata": {},
   "outputs": [],
   "source": [
    "def dic_to_partition(dic):\n",
    "    '''Transform a dictionary containing nodes as keys and groups or communities as values\n",
    "    into a partition'''\n",
    "    partition = []\n",
    "    groups= set(dic.values())\n",
    "    for group in groups:\n",
    "        set_tmp = set([node for node, g in dic.items() if g == group])\n",
    "        partition.append(set_tmp)\n",
    "    return partition\n",
    "\n",
    "def find_hashtag_community(hashtag, algorithm):\n",
    "    '''To find the community of a given hashtag, and an algorithm,\n",
    "    it will look for the saved partition using that algorithm. it will returm the community\n",
    "    (set of nodes) that are in the same community of the given hashtag.'''\n",
    "    with open('Partitions.pickle', 'rb') as handle:\n",
    "        partitions = pickle.load(handle)\n",
    "    p = partitions[algorithm]\n",
    "    #print(p)\n",
    "    com = p[hashtag]\n",
    "    return dic_to_partition(p)[com]"
   ]
  },
  {
   "cell_type": "code",
   "execution_count": 17,
   "id": "cc9a0abd",
   "metadata": {},
   "outputs": [],
   "source": [
    "def draw_graph3(networkx_graph,notebook=True,output_filename='graph.html',show_buttons=True,only_physics_buttons=True):\n",
    "        \"\"\"\n",
    "        This function accepts a networkx graph object,\n",
    "        converts it to a pyvis network object preserving its node and edge attributes,\n",
    "        and both returns and saves a dynamic network visualization.\n",
    "\n",
    "        Valid node attributes include:\n",
    "            \"size\", \"value\", \"title\", \"x\", \"y\", \"label\", \"color\".\n",
    "\n",
    "            (For more info: https://pyvis.readthedocs.io/en/latest/documentation.html#pyvis.network.Network.add_node)\n",
    "\n",
    "        Valid edge attributes include:\n",
    "            \"arrowStrikethrough\", \"hidden\", \"physics\", \"title\", \"value\", \"width\"\n",
    "\n",
    "            (For more info: https://pyvis.readthedocs.io/en/latest/documentation.html#pyvis.network.Network.add_edge)\n",
    "\n",
    "\n",
    "        Args:\n",
    "            networkx_graph: The graph to convert and display\n",
    "            notebook: Display in Jupyter?\n",
    "            output_filename: Where to save the converted network\n",
    "            show_buttons: Show buttons in saved version of network?\n",
    "            only_physics_buttons: Show only buttons controlling physics of network?\n",
    "        \"\"\"\n",
    "\n",
    "        # import\n",
    "        from pyvis import network as net\n",
    "\n",
    "        # make a pyvis network\n",
    "        pyvis_graph = net.Network(notebook=notebook)\n",
    "        pyvis_graph.width = '1000px'\n",
    "        # for each node and its attributes in the networkx graph\n",
    "        \n",
    "\n",
    "    \n",
    "        for node,node_attrs in networkx_graph.nodes(data=True):\n",
    "            pyvis_graph.add_node(node,**node_attrs)\n",
    "    #         print(node,node_attrs)\n",
    "\n",
    "        pyvis_graph.force_atlas_2based()\n",
    "    \n",
    "        # for each edge and its attributes in the networkx graph\n",
    "        for source,target,edge_attrs in networkx_graph.edges(data=True):\n",
    "            # if value/width not specified directly, and weight is specified, set 'value' to 'weight'\n",
    "            if not 'value' in edge_attrs and not 'width' in edge_attrs and 'weight' in edge_attrs:\n",
    "                # place at key 'value' the weight of the edge\n",
    "                edge_attrs['value']=edge_attrs['weight']\n",
    "            # add the edge\n",
    "            pyvis_graph.add_edge(source,target,**edge_attrs)\n",
    "\n",
    "        # turn buttons on\n",
    "        if show_buttons:\n",
    "            if only_physics_buttons:\n",
    "                pyvis_graph.show_buttons(filter_=['physics'])\n",
    "            else:\n",
    "                pyvis_graph.show_buttons()\n",
    "\n",
    "        # return and also save\n",
    "        return pyvis_graph.show(output_filename)"
   ]
  },
  {
   "cell_type": "code",
   "execution_count": 42,
   "id": "e69f9901",
   "metadata": {},
   "outputs": [],
   "source": [
    "draw_graph3(M,output_filename='../_generated_data/Net.html', notebook=False, only_physics_buttons=True)"
   ]
  }
 ],
 "metadata": {
  "kernelspec": {
   "display_name": "Python 3 (ipykernel)",
   "language": "python",
   "name": "python3"
  },
  "language_info": {
   "codemirror_mode": {
    "name": "ipython",
    "version": 3
   },
   "file_extension": ".py",
   "mimetype": "text/x-python",
   "name": "python",
   "nbconvert_exporter": "python",
   "pygments_lexer": "ipython3",
   "version": "3.8.10"
  }
 },
 "nbformat": 4,
 "nbformat_minor": 5
}
