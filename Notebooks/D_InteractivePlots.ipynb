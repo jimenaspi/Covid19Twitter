{
 "cells": [
  {
   "cell_type": "code",
   "execution_count": 1,
   "id": "320aaba3",
   "metadata": {},
   "outputs": [
    {
     "name": "stderr",
     "output_type": "stream",
     "text": [
      "/var/folders/2r/dxh5vfq12h7bhlg2f88kpl440000gn/T/ipykernel_36183/2031576636.py:31: UserWarning: \n",
      "The dash_core_components package is deprecated. Please replace\n",
      "`import dash_core_components as dcc` with `from dash import dcc`\n",
      "  import dash_core_components as dcc\n",
      "/var/folders/2r/dxh5vfq12h7bhlg2f88kpl440000gn/T/ipykernel_36183/2031576636.py:32: UserWarning: \n",
      "The dash_html_components package is deprecated. Please replace\n",
      "`import dash_html_components as html` with `from dash import html`\n",
      "  import dash_html_components as html\n"
     ]
    },
    {
     "name": "stdout",
     "output_type": "stream",
     "text": [
      "Dash is running on http://127.0.0.1:8050/\n",
      "\n",
      " * Serving Flask app '__main__' (lazy loading)\n",
      " * Environment: production\n",
      "\u001b[31m   WARNING: This is a development server. Do not use it in a production deployment.\u001b[0m\n",
      "\u001b[2m   Use a production WSGI server instead.\u001b[0m\n",
      " * Debug mode: on\n"
     ]
    },
    {
     "ename": "OSError",
     "evalue": "[Errno 48] Address already in use",
     "output_type": "error",
     "traceback": [
      "\u001b[0;31m---------------------------------------------------------------------------\u001b[0m",
      "\u001b[0;31mOSError\u001b[0m                                   Traceback (most recent call last)",
      "\u001b[0;32m/var/folders/2r/dxh5vfq12h7bhlg2f88kpl440000gn/T/ipykernel_36183/2031576636.py\u001b[0m in \u001b[0;36m<module>\u001b[0;34m\u001b[0m\n\u001b[1;32m     67\u001b[0m \u001b[0;32mif\u001b[0m \u001b[0m__name__\u001b[0m \u001b[0;34m==\u001b[0m \u001b[0;34m'__main__'\u001b[0m\u001b[0;34m:\u001b[0m\u001b[0;34m\u001b[0m\u001b[0;34m\u001b[0m\u001b[0m\n\u001b[1;32m     68\u001b[0m     \u001b[0;31m#app.run_server(debug=True)\u001b[0m\u001b[0;34m\u001b[0m\u001b[0;34m\u001b[0m\u001b[0;34m\u001b[0m\u001b[0m\n\u001b[0;32m---> 69\u001b[0;31m     \u001b[0mapp\u001b[0m\u001b[0;34m.\u001b[0m\u001b[0mrun_server\u001b[0m\u001b[0;34m(\u001b[0m\u001b[0mdebug\u001b[0m\u001b[0;34m=\u001b[0m\u001b[0;32mTrue\u001b[0m\u001b[0;34m,\u001b[0m \u001b[0mhost\u001b[0m \u001b[0;34m=\u001b[0m \u001b[0;34m'127.0.0.1'\u001b[0m\u001b[0;34m)\u001b[0m\u001b[0;34m\u001b[0m\u001b[0;34m\u001b[0m\u001b[0m\n\u001b[0m",
      "\u001b[0;32m~/opt/anaconda3/lib/python3.8/site-packages/dash/dash.py\u001b[0m in \u001b[0;36mrun_server\u001b[0;34m(self, host, port, proxy, debug, dev_tools_ui, dev_tools_props_check, dev_tools_serve_dev_bundles, dev_tools_hot_reload, dev_tools_hot_reload_interval, dev_tools_hot_reload_watch_interval, dev_tools_hot_reload_max_retry, dev_tools_silence_routes_logging, dev_tools_prune_errors, **flask_run_options)\u001b[0m\n\u001b[1;32m   2031\u001b[0m                     \u001b[0mextra_files\u001b[0m\u001b[0;34m.\u001b[0m\u001b[0mappend\u001b[0m\u001b[0;34m(\u001b[0m\u001b[0mpath\u001b[0m\u001b[0;34m)\u001b[0m\u001b[0;34m\u001b[0m\u001b[0;34m\u001b[0m\u001b[0m\n\u001b[1;32m   2032\u001b[0m \u001b[0;34m\u001b[0m\u001b[0m\n\u001b[0;32m-> 2033\u001b[0;31m         \u001b[0mself\u001b[0m\u001b[0;34m.\u001b[0m\u001b[0mserver\u001b[0m\u001b[0;34m.\u001b[0m\u001b[0mrun\u001b[0m\u001b[0;34m(\u001b[0m\u001b[0mhost\u001b[0m\u001b[0;34m=\u001b[0m\u001b[0mhost\u001b[0m\u001b[0;34m,\u001b[0m \u001b[0mport\u001b[0m\u001b[0;34m=\u001b[0m\u001b[0mport\u001b[0m\u001b[0;34m,\u001b[0m \u001b[0mdebug\u001b[0m\u001b[0;34m=\u001b[0m\u001b[0mdebug\u001b[0m\u001b[0;34m,\u001b[0m \u001b[0;34m**\u001b[0m\u001b[0mflask_run_options\u001b[0m\u001b[0;34m)\u001b[0m\u001b[0;34m\u001b[0m\u001b[0;34m\u001b[0m\u001b[0m\n\u001b[0m",
      "\u001b[0;32m~/opt/anaconda3/lib/python3.8/site-packages/flask/app.py\u001b[0m in \u001b[0;36mrun\u001b[0;34m(self, host, port, debug, load_dotenv, **options)\u001b[0m\n\u001b[1;32m    918\u001b[0m \u001b[0;34m\u001b[0m\u001b[0m\n\u001b[1;32m    919\u001b[0m         \u001b[0;32mtry\u001b[0m\u001b[0;34m:\u001b[0m\u001b[0;34m\u001b[0m\u001b[0;34m\u001b[0m\u001b[0m\n\u001b[0;32m--> 920\u001b[0;31m             \u001b[0mrun_simple\u001b[0m\u001b[0;34m(\u001b[0m\u001b[0mt\u001b[0m\u001b[0;34m.\u001b[0m\u001b[0mcast\u001b[0m\u001b[0;34m(\u001b[0m\u001b[0mstr\u001b[0m\u001b[0;34m,\u001b[0m \u001b[0mhost\u001b[0m\u001b[0;34m)\u001b[0m\u001b[0;34m,\u001b[0m \u001b[0mport\u001b[0m\u001b[0;34m,\u001b[0m \u001b[0mself\u001b[0m\u001b[0;34m,\u001b[0m \u001b[0;34m**\u001b[0m\u001b[0moptions\u001b[0m\u001b[0;34m)\u001b[0m\u001b[0;34m\u001b[0m\u001b[0;34m\u001b[0m\u001b[0m\n\u001b[0m\u001b[1;32m    921\u001b[0m         \u001b[0;32mfinally\u001b[0m\u001b[0;34m:\u001b[0m\u001b[0;34m\u001b[0m\u001b[0;34m\u001b[0m\u001b[0m\n\u001b[1;32m    922\u001b[0m             \u001b[0;31m# reset the first request information if the development server\u001b[0m\u001b[0;34m\u001b[0m\u001b[0;34m\u001b[0m\u001b[0;34m\u001b[0m\u001b[0m\n",
      "\u001b[0;32m~/opt/anaconda3/lib/python3.8/site-packages/werkzeug/serving.py\u001b[0m in \u001b[0;36mrun_simple\u001b[0;34m(hostname, port, application, use_reloader, use_debugger, use_evalex, extra_files, exclude_patterns, reloader_interval, reloader_type, threaded, processes, request_handler, static_files, passthrough_errors, ssl_context)\u001b[0m\n\u001b[1;32m    980\u001b[0m             \u001b[0ms\u001b[0m \u001b[0;34m=\u001b[0m \u001b[0msocket\u001b[0m\u001b[0;34m.\u001b[0m\u001b[0msocket\u001b[0m\u001b[0;34m(\u001b[0m\u001b[0maddress_family\u001b[0m\u001b[0;34m,\u001b[0m \u001b[0msocket\u001b[0m\u001b[0;34m.\u001b[0m\u001b[0mSOCK_STREAM\u001b[0m\u001b[0;34m)\u001b[0m\u001b[0;34m\u001b[0m\u001b[0;34m\u001b[0m\u001b[0m\n\u001b[1;32m    981\u001b[0m             \u001b[0ms\u001b[0m\u001b[0;34m.\u001b[0m\u001b[0msetsockopt\u001b[0m\u001b[0;34m(\u001b[0m\u001b[0msocket\u001b[0m\u001b[0;34m.\u001b[0m\u001b[0mSOL_SOCKET\u001b[0m\u001b[0;34m,\u001b[0m \u001b[0msocket\u001b[0m\u001b[0;34m.\u001b[0m\u001b[0mSO_REUSEADDR\u001b[0m\u001b[0;34m,\u001b[0m \u001b[0;36m1\u001b[0m\u001b[0;34m)\u001b[0m\u001b[0;34m\u001b[0m\u001b[0;34m\u001b[0m\u001b[0m\n\u001b[0;32m--> 982\u001b[0;31m             \u001b[0ms\u001b[0m\u001b[0;34m.\u001b[0m\u001b[0mbind\u001b[0m\u001b[0;34m(\u001b[0m\u001b[0mserver_address\u001b[0m\u001b[0;34m)\u001b[0m\u001b[0;34m\u001b[0m\u001b[0;34m\u001b[0m\u001b[0m\n\u001b[0m\u001b[1;32m    983\u001b[0m             \u001b[0ms\u001b[0m\u001b[0;34m.\u001b[0m\u001b[0mset_inheritable\u001b[0m\u001b[0;34m(\u001b[0m\u001b[0;32mTrue\u001b[0m\u001b[0;34m)\u001b[0m\u001b[0;34m\u001b[0m\u001b[0;34m\u001b[0m\u001b[0m\n\u001b[1;32m    984\u001b[0m \u001b[0;34m\u001b[0m\u001b[0m\n",
      "\u001b[0;31mOSError\u001b[0m: [Errno 48] Address already in use"
     ]
    }
   ],
   "source": [
    "'''libraries list with help showing the version of the libraries being used in this nodebook'''\n",
    "libraries = []\n",
    "\n",
    "'''Datasets, arrays and files '''\n",
    "import pandas as pd\n",
    "import numpy as np\n",
    "import pickle\n",
    "import json\n",
    "libraries.append('pandas')\n",
    "libraries.append('numpy')\n",
    "libraries.append('pickle')\n",
    "libraries.append('json')\n",
    "\n",
    "'''Following progress'''\n",
    "from tqdm.notebook import tqdm\n",
    "libraries.append('tqdm')\n",
    "\n",
    "'''Plots'''\n",
    "%matplotlib notebook\n",
    "\n",
    "import matplotlib.pyplot as plt\n",
    "import matplotlib.cm as cm\n",
    "from mpldatacursor import datacursor\n",
    "from mpldatacursor import HighlightingDataCursor\n",
    "import seaborn as sns\n",
    "plt.style.use('seaborn-paper')\n",
    "plt.rcParams[\"figure.facecolor\"] = \"w\"\n",
    "\n",
    "\n",
    "import dash\n",
    "import dash_core_components as dcc\n",
    "import dash_html_components as html\n",
    "\n",
    "import plotly.graph_objs as go\n",
    "from colour import Color\n",
    "from datetime import datetime\n",
    "from textwrap import dedent as d\n",
    "from pyvis.network import Network\n",
    "libraries.append('dash')\n",
    "libraries.append('plotly')\n",
    "libraries.append('colour')\n",
    "libraries.append('textwrap')\n",
    "libraries.append('pyvis')\n",
    "libraries.append('matplotlib')\n",
    "libraries.append('mpldatacursor')\n",
    "libraries.append('seaborn')\n",
    "                 \n",
    "'''Networks and community detection'''\n",
    "import networkx as nx\n",
    "import igraph as ig\n",
    "from sklearn import cluster\n",
    "libraries.append('networkx')\n",
    "libraries.append('igraph')\n",
    "\n",
    "\n",
    "'''Pthon and library version'''\n",
    "import types\n",
    "import pkg_resources\n",
    "import sys\n",
    "from platform import python_version\n",
    "\n",
    "external_stylesheets = ['https://codepen.io/chriddyp/pen/bWLwgP.css']\n",
    "app = dash.Dash(__name__, external_stylesheets=external_stylesheets)\n",
    "\n",
    "app.title = \"Transaction Network\"\n",
    "\n",
    "if __name__ == '__main__':\n",
    "    #app.run_server(debug=True)\n",
    "    app.run_server(debug=True, host = '127.0.0.1')\n"
   ]
  },
  {
   "cell_type": "code",
   "execution_count": 9,
   "id": "c1629924",
   "metadata": {},
   "outputs": [
    {
     "data": {
      "text/plain": [
       "[(<AddressFamily.AF_INET: 2>,\n",
       "  <SocketKind.SOCK_STREAM: 1>,\n",
       "  6,\n",
       "  '',\n",
       "  ('10.0.0.182', 0))]"
      ]
     },
     "execution_count": 9,
     "metadata": {},
     "output_type": "execute_result"
    }
   ],
   "source": [
    "import socket\n",
    "socket.gethostname()\n",
    "\n",
    "port = 0\n",
    "socket.getaddrinfo(socket.gethostname(), port, socket.AF_INET, socket.SOCK_STREAM)"
   ]
  },
  {
   "cell_type": "code",
   "execution_count": 10,
   "id": "d55b96db",
   "metadata": {},
   "outputs": [
    {
     "name": "stdout",
     "output_type": "stream",
     "text": [
      "Version of python installed: 3.8.10 (default, May 19 2021, 11:01:55) \n",
      "[Clang 10.0.0 ]\n",
      "Version of python being used: 3.8.10\n",
      "\n",
      "Non-built in libraries being used:\n",
      "tqdm, version 4.62.3\n",
      "seaborn, version 0.11.2\n",
      "pyvis, version 0.1.9\n",
      "plotly, version 5.1.0\n",
      "pandas, version 1.3.3\n",
      "numpy, version 1.19.2\n",
      "networkx, version 2.6.3\n",
      "mpldatacursor, version 0.7.1\n",
      "matplotlib, version 3.4.3\n",
      "dash, version 2.0.0\n",
      "colour, version 0.1.5\n"
     ]
    }
   ],
   "source": [
    "'''To display version of Software being used'''\n",
    "print('Version of python installed: {}' .format(sys.version))\n",
    "print('Version of python being used: {}' .format(python_version()))\n",
    "print('\\nNon-built in libraries being used:')\n",
    "\n",
    "for m in pkg_resources.working_set:\n",
    "    if m.project_name.lower() in libraries:\n",
    "        print('{}, version {}'.format(m.project_name,m.version))"
   ]
  },
  {
   "cell_type": "code",
   "execution_count": 11,
   "id": "568123f4",
   "metadata": {},
   "outputs": [],
   "source": [
    "def add_edges(G,nt, val):\n",
    "    #def add_edges(G, nt, val):\n",
    "    '''Where G is the graph containing all the properties, and val is the measure that we\n",
    "    want to generate to be ploted in the interactive visualization (it needs to be labelled\n",
    "    as 'value')'''\n",
    "    for e1, e2, dic in G.edges(data=True):\n",
    "        w = dic['weight']\n",
    "        c = dic['correlation']\n",
    "        s = dic['similarity']\n",
    "        if val == 'weight':\n",
    "            v = w\n",
    "            n = 10\n",
    "        elif val == 'correlation':\n",
    "            v = c\n",
    "            n = 1/10\n",
    "        elif val == 'similarity':\n",
    "            v = s\n",
    "            n = 5\n",
    "        nt.add_edge(e1, e2, value = (v/n))"
   ]
  },
  {
   "cell_type": "code",
   "execution_count": 20,
   "id": "a61f9f96",
   "metadata": {},
   "outputs": [],
   "source": [
    "'''To retrieve the networks information'''\n",
    "G_01 = nx.read_gpickle(\"../_generated_data/Net_1v3.gpickle\")\n",
    "G_02 = nx.read_gpickle(\"../_generated_data/Net_2v3.gpickle\")\n",
    "G_03 = nx.read_gpickle(\"../_generated_data/Net_3v3.gpickle\")"
   ]
  },
  {
   "cell_type": "code",
   "execution_count": 3,
   "id": "bbb3b257",
   "metadata": {},
   "outputs": [
    {
     "data": {
      "text/plain": [
       "{'weight': 0.003265655453962751,\n",
       " 'similarity': 9,\n",
       " 'correlation': {'correlation': -0.21981545969429406}}"
      ]
     },
     "execution_count": 3,
     "metadata": {},
     "output_type": "execute_result"
    }
   ],
   "source": [
    "G_01['ig_street']['covid19'] #To check the measures of an edge"
   ]
  },
  {
   "cell_type": "code",
   "execution_count": 4,
   "id": "a2548419",
   "metadata": {
    "scrolled": true
   },
   "outputs": [
    {
     "data": {
      "text/plain": [
       "NodeDataView({'corona': 0, 'canonphotographer': 0, 'emptystreets': 1, 'coronaqueensnyc': 0, 'canon77d': 0, 'unedited': 0, 'emptynyc': 1, 'nycshutdown': 1, 'coronaqueens': 0, 'quarantine': 2, 'visitLosAngeles': 2, 'foodbesat': 2, 'eatLA': 2, 'feastagrem': 2, 'lovefood': 2, 'onthetable': 2, 'seriouseats': 2, 'stayhomesafer': 2, 'yumYum': 2, 'Delicious': 2, 'Tasty': 2, 'qurantinelife': 11, 'coronavirus': 4, 'covid19': 5, 'viralvideos': 4, 'coronaviruspandemic': 6, 'lilbaby': 4, 'lilwayne': 4, 'kjmg': 4, 'growinsilence': 4, 'mindonamillion': 4, 'yourpage': 4, 'sequester': 6, 'abandoned': 6, 'covid_19': 5, 'bw': 5, 'bnw': 5, 'cityscape': 5, 'lensculture': 5, 'walkingthedog': 7, 'streetphotographer': 5, 'urbanstreetphotogallery': 5, 'acros': 5, 'photodocumentary': 5, 'ig_street': 5, 'urbanstreetphotography': 5, 'spicollective': 5, 'classicnegative': 5, 'w8time': 5, 'stayhome': 1, 'thisis51': 8, 'db365': 8, '30daysofmovement': 8, 'sweatyselfie': 8, 'PAUSElifeNYC': 8, 'hamont': 1, 'crackilton': 1, 'crackiltonOMT': 1, 'squeegeekid': 1, 'carnystories': 1, 'setomas': 1, 'selfpublish': 1, 'lockdown': 9, 'transformers': 9, 'angrybirdstransformers': 9, 'angrybirds': 9, 'decepticons': 9, 'iosgames': 9, 'lockdown2020': 10, 'liberalismisamentaldisorder': 10, 'pandemic': 4, 'culvercity': 11, 'c4jforever': 11, 'wine': 11, 'stayhomesavelives': 11, 'justlikethat': 11, 'laugh': 12, 'live': 12, 'likeforlikes': 13, 'followforfollowback': 13, 'instadaily': 14, 'instalike': 14, 'shelterinplace': 11, 'loveyourself': 11, 'flattenthecurve': 11, 'citylife': 11, 'inthistogether': 11, 'lovelife': 11, 'loveoneanother': 11, 'Coronavirus': 15, 'faceshield': 15, 'SaveTheWorld': 15, 'BillionShieldsChallenge': 15, 'BillionShields': 15, 'Bottles2Shields': 15, 'virus': 1, 'isolation': 1, 'covid': 6, 'MayThe4thBeWithYou': 15, 'ExOWorldNow': 15, 'Masks4All': 15, 'TogetherAtHome': 15, 'earthday': 15, 'mit': 15, 'LOCKDOWN2020': 15, 'SocialDistancing': 17, 'JoAnnBush': 17, 'Chicago': 17, 'Google': 17, 'COVID19': 1, 'CA': 17, 'JamminJo': 17, 'socialdistancing': 11, 'dankmedia': 11, 'dankvenice': 11, '366photo': 11, 'hiphop': 4, 'trending': 4, 'rap': 4, 'torontophoto': 1, 'catsofinstagram': 11, 'cats': 11, 'cat': 11, 'lol': 17, 'Virus': 17, 'Corona': 17, 'BeSafe': 17, 'Health': 17, 'BLM': 17, 'Eat': 17, 'Art': 17, 'Nyc': 17, 'Brooklyn': 17, 'ArtAddict': 17, 'K': 17, 'Stealth': 17, 'Wealth': 17, 'Lurking': 17, 'workfromhome': 18, 'financialprofessional': 18, 'supersinghs': 18, 'foodporn': 19, 'foodphotography': 19, 'foodstagram': 19, 'grateful': 20, 'thankful': 20, 'covid2020': 21, 'drawing': 21, 'architecture': 5, 'comedy': 22, 'pnandfriends': 22, 'pnisawesome': 22, 'realestate': 23, 'realtor': 23, 'covi̇d19': 24, 'covid19toronto': 24, 'instagay': 11, 'selfisolation': 1, 'Quarantine': 17, 'CoronaVirus': 17, 'Covid_19': 17, 'DazzlingDanette': 17, 'Covid': 15, 'vote': 25, 'bidenharris2020': 25, 'Covid19': 17, 'StayHome': 17, 'SocialDistance': 26, 'NewYorkCity': 17, 'Repost': 22, 'film': 5, 'USA': 17, 'Canada': 17, 'Featured': 17, 'Business': 17, 'NEWS': 17, 'India': 17, 'Entertainment': 17, 'Bollywood': 17, 'Ontario': 17, 'mask': 6, 'safetyfirst': 27, 'masked': 27, 'eyes': 27, 'humanity': 27, 'firstresponders': 28, 'nurses': 28, 'dailywalk': 11, 'neighborhoodwalk': 11, 'itsbetteroutside': 11, 'motherdaughtertime': 11, 'safety': 5, 'masks': 6, 'food': 19, 'neighborhood': 7, 'community': 7, 'brooklyn': 7, 'doingmypart': 29, 'wearamask': 29, 'savelives': 29, 'coronavirüsü': 29, 'wewillsurvive': 29, 'cooperiscute': 29, 'family': 11, 'fyp': 30, 'CORONAVIRUS': 30, 'supportsmallbusiness': 31, 'supportlocal': 31, 'canonphotography': 0, 'nofilter': 0, 'orangecounty': 0, '24mm70mmf4': 0, 'queens': 0, 'thankyou': 27, 'streetart': 7, 'StaySafe': 17, 'vaccine': 10, 'workingfromhome': 1, 'homeoffice': 1, 'houston': 19, 'sunset': 11, 'venicebeach': 11, 'abc7eyewitness': 11, 'goldenhour': 11, 'zoom': 18, 'friendship': 11, 'foodie': 2, 'travelgram': 2, 'hungry': 2, 'Yummy': 2, 'dtla': 2, 'health': 5, 'texas': 32, 'sanantonio': 32, 'Fitness': 17, 'school': 33, 'homeschool': 33, 'photoshoot': 11, 'followme': 11, 'losangeles': 11, 'artwork': 34, 'painting': 34, 'california': 11, 'graffiti': 5, 'nyc': 0, 'halloween': 35, 'halloween2020': 35, 'WearAMask': 17, 'homeworkout': 8, 'coronavirusnyc': 8, 'clouds': 11, 'beastmode': 11, 'LosAngeles': 17, 'hollywood': 11, 'Houston': 17, 'NYC': 17, 'Manhattan': 17, 'mma': 11, 'flowers': 0, 'iparkmusic': 36, 'oobang': 36, 'riverside': 1, 'earthquake': 17, 'venice': 11, 'NewYork': 17, 'philly': 37, 'philadelphia': 37, 'toronto': 24, 'timeoutnewyork': 16, 'artonlink': 16, 'ny1pic': 16, 'Community': 17, 'RealEstate': 17, 'Toronto': 17, 'LAtraffic': 17, 'WFH': 17, 'Pandemic': 17, 'BeatThePandemic': 15, 'CoVid19': 17, 'GMNuStudio': 26, 'support81worldwide': 3, 'support81longisland': 3, 'support81newyorkcity': 3}, data='group')"
      ]
     },
     "execution_count": 4,
     "metadata": {},
     "output_type": "execute_result"
    }
   ],
   "source": [
    "G_01.nodes(data='group')"
   ]
  },
  {
   "cell_type": "code",
   "execution_count": 24,
   "id": "e1019114",
   "metadata": {},
   "outputs": [
    {
     "data": {
      "text/plain": [
       "NodeDataView({'covid_19': {'group': 1, 'color': '#f7755a'}, 'urbanstreetphotography': {'group': 1, 'color': '#f7755a'}, 'Coronavirus': {'group': 6, 'color': '#91a531'}, 'MayThe4thBeWithYou': {'group': 6, 'color': '#91a531'}, 'faceshield': {'group': 6, 'color': '#91a531'}, 'SaveTheWorld': {'group': 6, 'color': '#91a531'}, 'BillionShieldsChallenge': {'group': 6, 'color': '#91a531'}, 'ExOWorldNow': {'group': 6, 'color': '#91a531'}, 'BillionShields': {'group': 6, 'color': '#91a531'}, 'Bottles2Shields': {'group': 6, 'color': '#91a531'}, 'Masks4All': {'group': 6, 'color': '#91a531'}, 'TogetherAtHome': {'group': 6, 'color': '#91a531'}, 'mit': {'group': 6, 'color': '#91a531'}, 'LOCKDOWN2020': {'group': 6, 'color': '#91a531'}, 'trending': {'group': 20, 'color': '#f560e1'}, 'lilbaby': {'group': 20, 'color': '#f560e1'}, 'lilwayne': {'group': 20, 'color': '#f560e1'}, 'kjmg': {'group': 20, 'color': '#f560e1'}, 'growinsilence': {'group': 20, 'color': '#f560e1'}, 'mindonamillion': {'group': 20, 'color': '#f560e1'}, 'yourpage': {'group': 20, 'color': '#f560e1'}, 'workfromhome': {'group': 22, 'color': '#f66ca9'}, 'financialprofessional': {'group': 22, 'color': '#f66ca9'}, 'supersinghs': {'group': 22, 'color': '#f66ca9'}, 'Covid': {'group': 6, 'color': '#91a531'}, 'Covid19': {'group': 0, 'color': '#f77189'}, 'Featured': {'group': 0, 'color': '#f77189'}, 'NEWS': {'group': 0, 'color': '#f77189'}, 'India': {'group': 0, 'color': '#f77189'}, 'flattenthecurve': {'group': 18, 'color': '#be81f4'}, 'itsbetteroutside': {'group': 18, 'color': '#be81f4'}, 'doingmypart': {'group': 2, 'color': '#e48432'}, 'coronavirüsü': {'group': 2, 'color': '#e48432'}, 'wewillsurvive': {'group': 2, 'color': '#e48432'}, 'cooperiscute': {'group': 2, 'color': '#e48432'}, 'Health': {'group': 3, 'color': '#cc9132'}, 'Entertainment': {'group': 3, 'color': '#cc9132'}, 'Bollywood': {'group': 3, 'color': '#cc9132'}, 'bw': {'group': 1, 'color': '#f7755a'}, 'bnw': {'group': 1, 'color': '#f7755a'}, 'cityscape': {'group': 1, 'color': '#f7755a'}, 'lensculture': {'group': 1, 'color': '#f7755a'}, 'streetphotographer': {'group': 1, 'color': '#f7755a'}, 'urbanstreetphotogallery': {'group': 1, 'color': '#f7755a'}, 'acros': {'group': 1, 'color': '#f7755a'}, 'photodocumentary': {'group': 1, 'color': '#f7755a'}, 'ig_street': {'group': 1, 'color': '#f7755a'}, 'spicollective': {'group': 1, 'color': '#f7755a'}, 'viralvideos': {'group': 20, 'color': '#f560e1'}, 'beastmode': {'group': 4, 'color': '#b89932'}, 'justlikethat': {'group': 4, 'color': '#b89932'}, 'coronaviruspandemic': {'group': 5, 'color': '#a69f31'}, 'sequester': {'group': 5, 'color': '#a69f31'}, 'abandoned': {'group': 5, 'color': '#a69f31'}, 'canonphotographer': {'group': 7, 'color': '#74ac31'}, 'coronaqueensnyc': {'group': 7, 'color': '#74ac31'}, 'canon77d': {'group': 7, 'color': '#74ac31'}, '24mm70mmf4': {'group': 7, 'color': '#74ac31'}, 'unedited': {'group': 7, 'color': '#74ac31'}, 'coronaqueens': {'group': 7, 'color': '#74ac31'}, 'CA': {'group': 8, 'color': '#31b338'}, 'JamminJo': {'group': 8, 'color': '#31b338'}, 'JoAnnBush': {'group': 8, 'color': '#31b338'}, 'coronavirusnyc': {'group': 9, 'color': '#33b174'}, 'thisis51': {'group': 9, 'color': '#33b174'}, 'db365': {'group': 9, 'color': '#33b174'}, '30daysofmovement': {'group': 9, 'color': '#33b174'}, 'sweatyselfie': {'group': 9, 'color': '#33b174'}, 'PAUSElifeNYC': {'group': 9, 'color': '#33b174'}, 'classicnegative': {'group': 1, 'color': '#f7755a'}, 'Corona': {'group': 10, 'color': '#34af8d'}, 'LAtraffic': {'group': 10, 'color': '#34af8d'}, 'WFH': {'group': 11, 'color': '#35ad9d'}, 'Fitness': {'group': 11, 'color': '#35ad9d'}, 'RealEstate': {'group': 12, 'color': '#36acab'}, 'Business': {'group': 12, 'color': '#36acab'}, 'Yummy': {'group': 13, 'color': '#37abb9'}, 'visitLosAngeles': {'group': 13, 'color': '#37abb9'}, 'foodbesat': {'group': 13, 'color': '#37abb9'}, 'eatLA': {'group': 13, 'color': '#37abb9'}, 'feastagrem': {'group': 13, 'color': '#37abb9'}, 'lovefood': {'group': 13, 'color': '#37abb9'}, 'onthetable': {'group': 13, 'color': '#37abb9'}, 'seriouseats': {'group': 13, 'color': '#37abb9'}, 'stayhomesafer': {'group': 13, 'color': '#37abb9'}, 'yumYum': {'group': 13, 'color': '#37abb9'}, 'Delicious': {'group': 13, 'color': '#37abb9'}, 'Tasty': {'group': 13, 'color': '#37abb9'}, 'pnandfriends': {'group': 14, 'color': '#38a8c9'}, 'pnisawesome': {'group': 14, 'color': '#38a8c9'}, 'BeatThePandemic': {'group': 6, 'color': '#91a531'}, 'CoVid19': {'group': 15, 'color': '#3aa5e1'}, 'DazzlingDanette': {'group': 15, 'color': '#3aa5e1'}, 'earthday': {'group': 6, 'color': '#91a531'}, 'iosgames': {'group': 16, 'color': '#689cf4'}, 'transformers': {'group': 16, 'color': '#689cf4'}, 'angrybirdstransformers': {'group': 16, 'color': '#689cf4'}, 'angrybirds': {'group': 16, 'color': '#689cf4'}, 'decepticons': {'group': 16, 'color': '#689cf4'}, 'hamont': {'group': 17, 'color': '#9a90f4'}, 'crackilton': {'group': 17, 'color': '#9a90f4'}, 'crackiltonOMT': {'group': 17, 'color': '#9a90f4'}, 'squeegeekid': {'group': 17, 'color': '#9a90f4'}, 'carnystories': {'group': 17, 'color': '#9a90f4'}, 'setomas': {'group': 17, 'color': '#9a90f4'}, 'selfpublish': {'group': 17, 'color': '#9a90f4'}, 'dailywalk': {'group': 18, 'color': '#be81f4'}, 'neighborhoodwalk': {'group': 18, 'color': '#be81f4'}, 'motherdaughtertime': {'group': 18, 'color': '#be81f4'}, 'SocialDistance': {'group': 19, 'color': '#e16cf4'}, 'GMNuStudio': {'group': 19, 'color': '#e16cf4'}, 'support81worldwide': {'group': 21, 'color': '#f667c4'}, 'support81longisland': {'group': 21, 'color': '#f667c4'}, 'support81newyorkcity': {'group': 21, 'color': '#f667c4'}})"
      ]
     },
     "execution_count": 24,
     "metadata": {},
     "output_type": "execute_result"
    }
   ],
   "source": [
    "G_03.nodes(data=True)"
   ]
  },
  {
   "cell_type": "code",
   "execution_count": 5,
   "id": "ac3caf52",
   "metadata": {},
   "outputs": [
    {
     "data": {
      "text/plain": [
       "37"
      ]
     },
     "execution_count": 5,
     "metadata": {},
     "output_type": "execute_result"
    }
   ],
   "source": [
    "n_groups = []\n",
    "for node, group in set(G_01.nodes(data='group')):\n",
    "    n_groups.append(group)\n",
    "n_groups = set(n_groups)\n",
    "max(n_groups)"
   ]
  },
  {
   "cell_type": "code",
   "execution_count": 6,
   "id": "bb6567b9",
   "metadata": {},
   "outputs": [
    {
     "data": {
      "text/plain": [
       "'#f77189'"
      ]
     },
     "execution_count": 6,
     "metadata": {},
     "output_type": "execute_result"
    }
   ],
   "source": [
    "palette = sns.color_palette(\"husl\", 6).as_hex()\n",
    "palette\n",
    "palette[0]"
   ]
  },
  {
   "cell_type": "code",
   "execution_count": 12,
   "id": "5356c42e",
   "metadata": {},
   "outputs": [],
   "source": [
    "def generate_html(val, G, id_):\n",
    "    '''To generate an html file, given a val measure from \n",
    "    value = ['weight', 'similarity', 'correlation'],\n",
    "    a network G and an id_ to name the file'''\n",
    "    \n",
    "    n_groups = []\n",
    "    for node, group in set(G.nodes(data='group')):\n",
    "        n_groups.append(group)\n",
    "    n_groups = set(n_groups)\n",
    "    max_group = max(n_groups)\n",
    "    \n",
    "    n = max_group + 1\n",
    "    palette = sns.color_palette(\"husl\", n).as_hex()\n",
    "   \n",
    "    for node in list(G.nodes()):\n",
    "        node_group = G.nodes(data=True)[node]['group'] \n",
    "        G.nodes[node]['color'] = palette[node_group]\n",
    "\n",
    "    H = G.copy()\n",
    "    H.remove_edges_from(list(H.edges())) \n",
    "    nx_graph = H #add edges only\n",
    "\n",
    "    nt = Network('700px', '700px', notebook=False)\n",
    "    \n",
    "    nt.force_atlas_2based()\n",
    "    #nt.barnes_hut()\n",
    "    nt.from_nx(nx_graph)\n",
    "    add_edges(G, nt, val) #add edges with value selected as property\n",
    "    nt.show_buttons(filter_=['physics'])\n",
    "    nt.show('../_generated_data/Net_'+val+id_+'.html')\n"
   ]
  },
  {
   "cell_type": "code",
   "execution_count": 21,
   "id": "eac01613",
   "metadata": {},
   "outputs": [],
   "source": [
    "generate_html('weight', G_01, 't01v3')"
   ]
  },
  {
   "cell_type": "code",
   "execution_count": 22,
   "id": "4e4d4d30",
   "metadata": {},
   "outputs": [],
   "source": [
    "generate_html('weight', G_02, 't02v3')"
   ]
  },
  {
   "cell_type": "code",
   "execution_count": 23,
   "id": "5e3167f8",
   "metadata": {},
   "outputs": [],
   "source": [
    "generate_html('weight', G_03, 't03v3')"
   ]
  },
  {
   "cell_type": "code",
   "execution_count": 16,
   "id": "8aeaf2c3",
   "metadata": {},
   "outputs": [],
   "source": [
    "def dic_to_partition(dic):\n",
    "    '''Transform a dictionary containing nodes as keys and groups or communities as values\n",
    "    into a partition'''\n",
    "    partition = []\n",
    "    groups= set(dic.values())\n",
    "    for group in groups:\n",
    "        set_tmp = set([node for node, g in dic.items() if g == group])\n",
    "        partition.append(set_tmp)\n",
    "    return partition\n",
    "\n",
    "def find_hashtag_community(hashtag, algorithm):\n",
    "    '''To find the community of a given hashtag, and an algorithm,\n",
    "    it will look for the saved partition using that algorithm. it will returm the community\n",
    "    (set of nodes) that are in the same community of the given hashtag.'''\n",
    "    with open('Partitions.pickle', 'rb') as handle:\n",
    "        partitions = pickle.load(handle)\n",
    "    p = partitions[algorithm]\n",
    "    #print(p)\n",
    "    com = p[hashtag]\n",
    "    return dic_to_partition(p)[com]"
   ]
  },
  {
   "cell_type": "code",
   "execution_count": 17,
   "id": "cc9a0abd",
   "metadata": {},
   "outputs": [],
   "source": [
    "def draw_graph3(networkx_graph,notebook=True,output_filename='graph.html',show_buttons=True,only_physics_buttons=True):\n",
    "        \"\"\"\n",
    "        This function accepts a networkx graph object,\n",
    "        converts it to a pyvis network object preserving its node and edge attributes,\n",
    "        and both returns and saves a dynamic network visualization.\n",
    "\n",
    "        Valid node attributes include:\n",
    "            \"size\", \"value\", \"title\", \"x\", \"y\", \"label\", \"color\".\n",
    "\n",
    "            (For more info: https://pyvis.readthedocs.io/en/latest/documentation.html#pyvis.network.Network.add_node)\n",
    "\n",
    "        Valid edge attributes include:\n",
    "            \"arrowStrikethrough\", \"hidden\", \"physics\", \"title\", \"value\", \"width\"\n",
    "\n",
    "            (For more info: https://pyvis.readthedocs.io/en/latest/documentation.html#pyvis.network.Network.add_edge)\n",
    "\n",
    "\n",
    "        Args:\n",
    "            networkx_graph: The graph to convert and display\n",
    "            notebook: Display in Jupyter?\n",
    "            output_filename: Where to save the converted network\n",
    "            show_buttons: Show buttons in saved version of network?\n",
    "            only_physics_buttons: Show only buttons controlling physics of network?\n",
    "        \"\"\"\n",
    "\n",
    "        # import\n",
    "        from pyvis import network as net\n",
    "\n",
    "        # make a pyvis network\n",
    "        pyvis_graph = net.Network(notebook=notebook)\n",
    "        pyvis_graph.width = '1000px'\n",
    "        # for each node and its attributes in the networkx graph\n",
    "        \n",
    "\n",
    "    \n",
    "        for node,node_attrs in networkx_graph.nodes(data=True):\n",
    "            pyvis_graph.add_node(node,**node_attrs)\n",
    "    #         print(node,node_attrs)\n",
    "\n",
    "        pyvis_graph.force_atlas_2based()\n",
    "    \n",
    "        # for each edge and its attributes in the networkx graph\n",
    "        for source,target,edge_attrs in networkx_graph.edges(data=True):\n",
    "            # if value/width not specified directly, and weight is specified, set 'value' to 'weight'\n",
    "            if not 'value' in edge_attrs and not 'width' in edge_attrs and 'weight' in edge_attrs:\n",
    "                # place at key 'value' the weight of the edge\n",
    "                edge_attrs['value']=edge_attrs['weight']\n",
    "            # add the edge\n",
    "            pyvis_graph.add_edge(source,target,**edge_attrs)\n",
    "\n",
    "        # turn buttons on\n",
    "        if show_buttons:\n",
    "            if only_physics_buttons:\n",
    "                pyvis_graph.show_buttons(filter_=['physics'])\n",
    "            else:\n",
    "                pyvis_graph.show_buttons()\n",
    "\n",
    "        # return and also save\n",
    "        return pyvis_graph.show(output_filename)"
   ]
  },
  {
   "cell_type": "code",
   "execution_count": 42,
   "id": "e69f9901",
   "metadata": {},
   "outputs": [],
   "source": [
    "draw_graph3(M,output_filename='../_generated_data/Net.html', notebook=False, only_physics_buttons=True)"
   ]
  }
 ],
 "metadata": {
  "kernelspec": {
   "display_name": "Python 3 (ipykernel)",
   "language": "python",
   "name": "python3"
  },
  "language_info": {
   "codemirror_mode": {
    "name": "ipython",
    "version": 3
   },
   "file_extension": ".py",
   "mimetype": "text/x-python",
   "name": "python",
   "nbconvert_exporter": "python",
   "pygments_lexer": "ipython3",
   "version": "3.8.10"
  }
 },
 "nbformat": 4,
 "nbformat_minor": 5
}
