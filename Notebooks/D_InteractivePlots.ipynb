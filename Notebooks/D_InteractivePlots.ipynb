{
 "cells": [
  {
   "cell_type": "code",
   "execution_count": 1,
   "id": "320aaba3",
   "metadata": {},
   "outputs": [
    {
     "name": "stderr",
     "output_type": "stream",
     "text": [
      "/var/folders/2r/dxh5vfq12h7bhlg2f88kpl440000gn/T/ipykernel_32850/2031576636.py:31: UserWarning: \n",
      "The dash_core_components package is deprecated. Please replace\n",
      "`import dash_core_components as dcc` with `from dash import dcc`\n",
      "  import dash_core_components as dcc\n",
      "/var/folders/2r/dxh5vfq12h7bhlg2f88kpl440000gn/T/ipykernel_32850/2031576636.py:32: UserWarning: \n",
      "The dash_html_components package is deprecated. Please replace\n",
      "`import dash_html_components as html` with `from dash import html`\n",
      "  import dash_html_components as html\n"
     ]
    },
    {
     "name": "stdout",
     "output_type": "stream",
     "text": [
      "Dash is running on http://127.0.0.1:8050/\n",
      "\n",
      " * Serving Flask app '__main__' (lazy loading)\n",
      " * Environment: production\n",
      "\u001b[31m   WARNING: This is a development server. Do not use it in a production deployment.\u001b[0m\n",
      "\u001b[2m   Use a production WSGI server instead.\u001b[0m\n",
      " * Debug mode: on\n"
     ]
    },
    {
     "name": "stderr",
     "output_type": "stream",
     "text": [
      "Traceback (most recent call last):\n",
      "  File \"/Users/jimenaspi/opt/anaconda3/lib/python3.8/site-packages/ipykernel_launcher.py\", line 16, in <module>\n",
      "    app.launch_new_instance()\n",
      "  File \"/Users/jimenaspi/opt/anaconda3/lib/python3.8/site-packages/traitlets/config/application.py\", line 845, in launch_instance\n",
      "    app.initialize(argv)\n",
      "  File \"/Users/jimenaspi/opt/anaconda3/lib/python3.8/site-packages/traitlets/config/application.py\", line 88, in inner\n",
      "    return method(app, *args, **kwargs)\n",
      "  File \"/Users/jimenaspi/opt/anaconda3/lib/python3.8/site-packages/ipykernel/kernelapp.py\", line 632, in initialize\n",
      "    self.init_sockets()\n",
      "  File \"/Users/jimenaspi/opt/anaconda3/lib/python3.8/site-packages/ipykernel/kernelapp.py\", line 282, in init_sockets\n",
      "    self.shell_port = self._bind_socket(self.shell_socket, self.shell_port)\n",
      "  File \"/Users/jimenaspi/opt/anaconda3/lib/python3.8/site-packages/ipykernel/kernelapp.py\", line 229, in _bind_socket\n",
      "    return self._try_bind_socket(s, port)\n",
      "  File \"/Users/jimenaspi/opt/anaconda3/lib/python3.8/site-packages/ipykernel/kernelapp.py\", line 205, in _try_bind_socket\n",
      "    s.bind(\"tcp://%s:%i\" % (self.ip, port))\n",
      "  File \"/Users/jimenaspi/opt/anaconda3/lib/python3.8/site-packages/zmq/sugar/socket.py\", line 214, in bind\n",
      "    super().bind(addr)\n",
      "  File \"zmq/backend/cython/socket.pyx\", line 540, in zmq.backend.cython.socket.Socket.bind\n",
      "  File \"zmq/backend/cython/checkrc.pxd\", line 28, in zmq.backend.cython.checkrc._check_rc\n",
      "zmq.error.ZMQError: Address already in use\n"
     ]
    },
    {
     "ename": "SystemExit",
     "evalue": "1",
     "output_type": "error",
     "traceback": [
      "An exception has occurred, use %tb to see the full traceback.\n",
      "\u001b[0;31mSystemExit\u001b[0m\u001b[0;31m:\u001b[0m 1\n"
     ]
    },
    {
     "name": "stderr",
     "output_type": "stream",
     "text": [
      "/Users/jimenaspi/opt/anaconda3/lib/python3.8/site-packages/IPython/core/interactiveshell.py:3452: UserWarning: To exit: use 'exit', 'quit', or Ctrl-D.\n",
      "  warn(\"To exit: use 'exit', 'quit', or Ctrl-D.\", stacklevel=1)\n"
     ]
    }
   ],
   "source": [
    "'''libraries list with help showing the version of the libraries being used in this nodebook'''\n",
    "libraries = []\n",
    "\n",
    "'''Datasets, arrays and files '''\n",
    "import pandas as pd\n",
    "import numpy as np\n",
    "import pickle\n",
    "import json\n",
    "libraries.append('pandas')\n",
    "libraries.append('numpy')\n",
    "libraries.append('pickle')\n",
    "libraries.append('json')\n",
    "\n",
    "'''Following progress'''\n",
    "from tqdm.notebook import tqdm\n",
    "libraries.append('tqdm')\n",
    "\n",
    "'''Plots'''\n",
    "%matplotlib notebook\n",
    "\n",
    "import matplotlib.pyplot as plt\n",
    "import matplotlib.cm as cm\n",
    "from mpldatacursor import datacursor\n",
    "from mpldatacursor import HighlightingDataCursor\n",
    "import seaborn as sns\n",
    "plt.style.use('seaborn-paper')\n",
    "plt.rcParams[\"figure.facecolor\"] = \"w\"\n",
    "\n",
    "\n",
    "import dash\n",
    "import dash_core_components as dcc\n",
    "import dash_html_components as html\n",
    "\n",
    "import plotly.graph_objs as go\n",
    "from colour import Color\n",
    "from datetime import datetime\n",
    "from textwrap import dedent as d\n",
    "from pyvis.network import Network\n",
    "libraries.append('dash')\n",
    "libraries.append('plotly')\n",
    "libraries.append('colour')\n",
    "libraries.append('textwrap')\n",
    "libraries.append('pyvis')\n",
    "libraries.append('matplotlib')\n",
    "libraries.append('mpldatacursor')\n",
    "libraries.append('seaborn')\n",
    "                 \n",
    "'''Networks and community detection'''\n",
    "import networkx as nx\n",
    "import igraph as ig\n",
    "from sklearn import cluster\n",
    "libraries.append('networkx')\n",
    "libraries.append('igraph')\n",
    "\n",
    "\n",
    "'''Pthon and library version'''\n",
    "import types\n",
    "import pkg_resources\n",
    "import sys\n",
    "from platform import python_version\n",
    "\n",
    "external_stylesheets = ['https://codepen.io/chriddyp/pen/bWLwgP.css']\n",
    "app = dash.Dash(__name__, external_stylesheets=external_stylesheets)\n",
    "\n",
    "app.title = \"Transaction Network\"\n",
    "\n",
    "if __name__ == '__main__':\n",
    "    #app.run_server(debug=True)\n",
    "    app.run_server(debug=True, host = '127.0.0.1')\n"
   ]
  },
  {
   "cell_type": "code",
   "execution_count": null,
   "id": "c1629924",
   "metadata": {},
   "outputs": [],
   "source": [
    "import socket\n",
    "socket.gethostname()\n",
    "\n",
    "port = 0\n",
    "socket.getaddrinfo(socket.gethostname(), port, socket.AF_INET, socket.SOCK_STREAM)"
   ]
  },
  {
   "cell_type": "code",
   "execution_count": 2,
   "id": "d55b96db",
   "metadata": {},
   "outputs": [
    {
     "name": "stdout",
     "output_type": "stream",
     "text": [
      "Version of python installed: 3.8.10 (default, May 19 2021, 11:01:55) \n",
      "[Clang 10.0.0 ]\n",
      "Version of python being used: 3.8.10\n",
      "\n",
      "Non-built in libraries being used:\n",
      "tqdm, version 4.62.3\n",
      "seaborn, version 0.11.2\n",
      "pyvis, version 0.1.9\n",
      "plotly, version 5.1.0\n",
      "pandas, version 1.3.3\n",
      "numpy, version 1.19.2\n",
      "networkx, version 2.6.3\n",
      "mpldatacursor, version 0.7.1\n",
      "matplotlib, version 3.4.3\n",
      "dash, version 2.0.0\n",
      "colour, version 0.1.5\n"
     ]
    }
   ],
   "source": [
    "'''To display version of Software being used'''\n",
    "print('Version of python installed: {}' .format(sys.version))\n",
    "print('Version of python being used: {}' .format(python_version()))\n",
    "print('\\nNon-built in libraries being used:')\n",
    "\n",
    "for m in pkg_resources.working_set:\n",
    "    if m.project_name.lower() in libraries:\n",
    "        print('{}, version {}'.format(m.project_name,m.version))"
   ]
  },
  {
   "cell_type": "code",
   "execution_count": 3,
   "id": "568123f4",
   "metadata": {},
   "outputs": [],
   "source": [
    "def add_edges(G,nt, val):\n",
    "    #def add_edges(G, nt, val):\n",
    "    '''Where G is the graph containing all the properties, and val is the measure that we\n",
    "    want to generate to be ploted in the interactive visualization (it needs to be labelled\n",
    "    as 'value')'''\n",
    "    for e1, e2, dic in G.edges(data=True):\n",
    "        w = dic['weight']\n",
    "        c = dic['correlation']\n",
    "        s = dic['similarity']\n",
    "        if val == 'weight':\n",
    "            v = w\n",
    "            n = 10\n",
    "        elif val == 'correlation':\n",
    "            v = c\n",
    "            n = 1/10\n",
    "        elif val == 'similarity':\n",
    "            v = s\n",
    "            n = 5\n",
    "        nt.add_edge(e1, e2, value = (v/n))"
   ]
  },
  {
   "cell_type": "code",
   "execution_count": 4,
   "id": "a61f9f96",
   "metadata": {},
   "outputs": [],
   "source": [
    "'''To retrieve the networks information'''\n",
    "G_01 = nx.read_gpickle(\"../_generated_data/Net_1v3.gpickle\")\n",
    "G_02 = nx.read_gpickle(\"../_generated_data/Net_2v3.gpickle\")\n",
    "G_03 = nx.read_gpickle(\"../_generated_data/Net_3v3.gpickle\")"
   ]
  },
  {
   "cell_type": "code",
   "execution_count": 5,
   "id": "bbb3b257",
   "metadata": {},
   "outputs": [
    {
     "data": {
      "text/plain": [
       "{'weight': 0.003265655453962751,\n",
       " 'similarity': 9,\n",
       " 'correlation': {'correlation': -0.21981545969429406}}"
      ]
     },
     "execution_count": 5,
     "metadata": {},
     "output_type": "execute_result"
    }
   ],
   "source": [
    "G_01['ig_street']['covid19'] #To check the measures of an edge"
   ]
  },
  {
   "cell_type": "code",
   "execution_count": 6,
   "id": "a2548419",
   "metadata": {},
   "outputs": [
    {
     "data": {
      "text/plain": [
       "NodeDataView({'coronavirus': 0, 'sequester': 0, 'abandoned': 0, 'covid_19': 1, 'bw': 1, 'bnw': 1, 'lensculture': 1, 'streetphotographer': 1, 'urbanstreetphotogallery': 1, 'photodocumentary': 1, 'ig_street': 1, 'urbanstreetphotography': 1, 'spicollective': 1, 'classicnegative': 1, 'w8time': 1, 'lockdown': 2, 'transformers': 2, 'angrybirdstransformers': 2, 'angrybirds': 2, 'decepticons': 2, 'iosgames': 2, 'pandemic': 3, 'lilbaby': 3, 'lilwayne': 3, 'kjmg': 3, 'growinsilence': 3, 'mindonamillion': 3, 'yourpage': 3, 'shelterinplace': 4, 'qurantinelife': 4, 'covid19': 1, 'faceshield': 5, 'SaveTheWorld': 5, 'BillionShieldsChallenge': 5, 'BillionShields': 5, 'Bottles2Shields': 5, 'cityscape': 1, 'covid': 0, 'Coronavirus': 5, 'MayThe4thBeWithYou': 5, 'ExOWorldNow': 5, 'Masks4All': 5, 'TogetherAtHome': 5, 'earthday': 5, 'mit': 5, 'LOCKDOWN2020': 5, 'COVID19': 6, 'JamminJo': 7, 'JoAnnBush': 7, 'crackilton': 6, 'crackiltonOMT': 6, 'squeegeekid': 6, 'carnystories': 6, 'setomas': 6, 'selfpublish': 6, 'hiphop': 3, 'viralvideos': 3, 'isolation': 8, 'emptynyc': 8, 'nycshutdown': 8, 'trending': 3, 'loveyourself': 4, 'loveoneanother': 4, 'Virus': 10, 'Health': 10, 'Eat': 10, 'Art': 10, 'Nyc': 10, 'ArtAddict': 10, 'K': 10, 'Stealth': 10, 'Wealth': 10, 'Lurking': 10, 'workfromhome': 11, 'financialprofessional': 11, 'supersinghs': 11, 'foodporn': 12, 'foodstagram': 12, 'Quarantine': 26, 'DazzlingDanette': 26, 'Covid': 5, 'CoronaVirus': 7, 'Covid19': 10, 'Google': 10, 'Featured': 10, 'NEWS': 10, 'India': 10, 'Entertainment': 10, 'Bollywood': 10, 'mask': 0, 'flattenthecurve': 4, 'dailywalk': 4, 'neighborhoodwalk': 4, 'itsbetteroutside': 4, 'motherdaughtertime': 4, 'USA': 10, 'masks': 0, 'neighborhood': 16, 'walkingthedog': 16, 'doingmypart': 17, 'savelives': 17, 'coronavirüsü': 17, 'wewillsurvive': 17, 'cooperiscute': 17, 'community': 16, 'canonphotography': 18, 'canonphotographer': 18, 'coronaqueensnyc': 18, 'canon77d': 18, '24mm70mmf4': 18, 'unedited': 18, 'coronaqueens': 18, 'foodphotography': 12, 'citylife': 4, 'inthistogether': 4, 'zoom': 11, 'foodie': 19, 'Yummy': 19, 'visitLosAngeles': 19, 'foodbesat': 19, 'eatLA': 19, 'feastagrem': 19, 'lovefood': 19, 'onthetable': 19, 'seriouseats': 19, 'stayhomesafer': 19, 'yumYum': 19, 'Delicious': 19, 'Tasty': 19, 'acros': 1, 'hungry': 19, 'travelgram': 19, 'graffiti': 1, 'homeworkout': 20, 'thisis51': 20, 'db365': 20, '30daysofmovement': 20, 'sweatyselfie': 20, 'humanity': 21, 'masked': 21, 'nofilter': 18, 'beastmode': 22, 'justlikethat': 22, 'LosAngeles': 7, 'CA': 7, 'hollywood': 23, 'culvercity': 23, 'coronaviruspandemic': 0, 'queens': 18, 'iparkmusic': 24, 'oobang': 24, 'emptystreets': 8, 'earthquake': 7, 'venicebeach': 25, 'abc7eyewitness': 25, 'dankmedia': 25, 'dankvenice': 25, '366photo': 25, 'goldenhour': 25, 'coronavirusnyc': 20, 'PAUSElifeNYC': 20, 'Brooklyn': 10, 'Corona': 26, 'BeSafe': 10, 'timeoutnewyork': 27, 'artonlink': 27, 'ny1pic': 27, 'Canada': 10, 'Ontario': 10, 'Community': 10, 'RealEstate': 10, 'Business': 10, 'LAtraffic': 26, 'WFH': 13, 'Fitness': 13, 'eyes': 21, 'lovelife': 4, 'dtla': 19, 'c4jforever': 23, 'NewYorkCity': 10, 'SocialDistance': 14, 'pnandfriends': 15, 'pnisawesome': 15, 'BeatThePandemic': 5, 'CoVid19': 26, 'hamont': 6, 'GMNuStudio': 14, 'support81worldwide': 9, 'support81longisland': 9, 'support81newyorkcity': 9}, data='group')"
      ]
     },
     "execution_count": 6,
     "metadata": {},
     "output_type": "execute_result"
    }
   ],
   "source": [
    "G_01.nodes(data='group')"
   ]
  },
  {
   "cell_type": "code",
   "execution_count": 7,
   "id": "ac3caf52",
   "metadata": {},
   "outputs": [
    {
     "data": {
      "text/plain": [
       "27"
      ]
     },
     "execution_count": 7,
     "metadata": {},
     "output_type": "execute_result"
    }
   ],
   "source": [
    "n_groups = []\n",
    "for node, group in set(G_01.nodes(data='group')):\n",
    "    n_groups.append(group)\n",
    "n_groups = set(n_groups)\n",
    "max(n_groups)"
   ]
  },
  {
   "cell_type": "code",
   "execution_count": 8,
   "id": "bb6567b9",
   "metadata": {},
   "outputs": [
    {
     "data": {
      "text/plain": [
       "'#f77189'"
      ]
     },
     "execution_count": 8,
     "metadata": {},
     "output_type": "execute_result"
    }
   ],
   "source": [
    "palette = sns.color_palette(\"husl\", 6).as_hex()\n",
    "palette\n",
    "palette[0]"
   ]
  },
  {
   "cell_type": "code",
   "execution_count": 10,
   "id": "5356c42e",
   "metadata": {},
   "outputs": [],
   "source": [
    "def generate_html(val, G, id_):\n",
    "    '''To generate an html file, given a val measure from \n",
    "    value = ['weight', 'similarity', 'correlation'],\n",
    "    a network G and an id_ to name the file'''\n",
    "    \n",
    "    n_groups = []\n",
    "    for node, group in set(G.nodes(data='group')):\n",
    "        n_groups.append(group)\n",
    "    n_groups = set(n_groups)\n",
    "    max_group = max(n_groups)\n",
    "    \n",
    "    n = max_group + 1\n",
    "    palette = sns.color_palette(\"husl\", n).as_hex()\n",
    "   \n",
    "    for node in list(G.nodes()):\n",
    "        node_group = G.nodes(data=True)[node]['group'] \n",
    "        G.nodes[node]['color'] = palette[node_group]\n",
    "\n",
    "    H = G.copy()\n",
    "    H.remove_edges_from(list(H.edges())) \n",
    "    nx_graph = H #add edges only\n",
    "\n",
    "    nt = Network('700px', '700px', notebook=False)\n",
    "    \n",
    "    nt.force_atlas_2based()\n",
    "    #nt.barnes_hut()\n",
    "    nt.from_nx(nx_graph)\n",
    "    add_edges(G, nt, val) #add edges with value selected as property\n",
    "    nt.show_buttons(filter_=['physics'])\n",
    "    nt.show('../_generated_data/Net_'+val+id_+'.html')\n"
   ]
  },
  {
   "cell_type": "code",
   "execution_count": 11,
   "id": "eac01613",
   "metadata": {},
   "outputs": [],
   "source": [
    "generate_html('weight', G_01, 't01v3')"
   ]
  },
  {
   "cell_type": "code",
   "execution_count": 12,
   "id": "4e4d4d30",
   "metadata": {},
   "outputs": [],
   "source": [
    "generate_html('weight', G_02, 't02v3')"
   ]
  },
  {
   "cell_type": "code",
   "execution_count": 13,
   "id": "5e3167f8",
   "metadata": {},
   "outputs": [],
   "source": [
    "generate_html('weight', G_03, 't03v3')"
   ]
  },
  {
   "cell_type": "code",
   "execution_count": 14,
   "id": "8aeaf2c3",
   "metadata": {},
   "outputs": [],
   "source": [
    "def dic_to_partition(dic):\n",
    "    '''Transform a dictionary containing nodes as keys and groups or communities as values\n",
    "    into a partition'''\n",
    "    partition = []\n",
    "    groups= set(dic.values())\n",
    "    for group in groups:\n",
    "        set_tmp = set([node for node, g in dic.items() if g == group])\n",
    "        partition.append(set_tmp)\n",
    "    return partition\n",
    "\n",
    "def find_hashtag_community(hashtag, algorithm):\n",
    "    '''To find the community of a given hashtag, and an algorithm,\n",
    "    it will look for the saved partition using that algorithm. it will returm the community\n",
    "    (set of nodes) that are in the same community of the given hashtag.'''\n",
    "    with open('Partitions.pickle', 'rb') as handle:\n",
    "        partitions = pickle.load(handle)\n",
    "    p = partitions[algorithm]\n",
    "    #print(p)\n",
    "    com = p[hashtag]\n",
    "    return dic_to_partition(p)[com]"
   ]
  },
  {
   "cell_type": "code",
   "execution_count": 41,
   "id": "cc9a0abd",
   "metadata": {},
   "outputs": [],
   "source": [
    "def draw_graph3(networkx_graph,notebook=True,output_filename='graph.html',show_buttons=True,only_physics_buttons=True):\n",
    "        \"\"\"\n",
    "        This function accepts a networkx graph object,\n",
    "        converts it to a pyvis network object preserving its node and edge attributes,\n",
    "        and both returns and saves a dynamic network visualization.\n",
    "\n",
    "        Valid node attributes include:\n",
    "            \"size\", \"value\", \"title\", \"x\", \"y\", \"label\", \"color\".\n",
    "\n",
    "            (For more info: https://pyvis.readthedocs.io/en/latest/documentation.html#pyvis.network.Network.add_node)\n",
    "\n",
    "        Valid edge attributes include:\n",
    "            \"arrowStrikethrough\", \"hidden\", \"physics\", \"title\", \"value\", \"width\"\n",
    "\n",
    "            (For more info: https://pyvis.readthedocs.io/en/latest/documentation.html#pyvis.network.Network.add_edge)\n",
    "\n",
    "\n",
    "        Args:\n",
    "            networkx_graph: The graph to convert and display\n",
    "            notebook: Display in Jupyter?\n",
    "            output_filename: Where to save the converted network\n",
    "            show_buttons: Show buttons in saved version of network?\n",
    "            only_physics_buttons: Show only buttons controlling physics of network?\n",
    "        \"\"\"\n",
    "\n",
    "        # import\n",
    "        from pyvis import network as net\n",
    "\n",
    "        # make a pyvis network\n",
    "        pyvis_graph = net.Network(notebook=notebook)\n",
    "        pyvis_graph.width = '1000px'\n",
    "        # for each node and its attributes in the networkx graph\n",
    "        \n",
    "\n",
    "    \n",
    "        for node,node_attrs in networkx_graph.nodes(data=True):\n",
    "            pyvis_graph.add_node(node,**node_attrs)\n",
    "    #         print(node,node_attrs)\n",
    "\n",
    "        pyvis_graph.force_atlas_2based()\n",
    "    \n",
    "        # for each edge and its attributes in the networkx graph\n",
    "        for source,target,edge_attrs in networkx_graph.edges(data=True):\n",
    "            # if value/width not specified directly, and weight is specified, set 'value' to 'weight'\n",
    "            if not 'value' in edge_attrs and not 'width' in edge_attrs and 'weight' in edge_attrs:\n",
    "                # place at key 'value' the weight of the edge\n",
    "                edge_attrs['value']=edge_attrs['weight']\n",
    "            # add the edge\n",
    "            pyvis_graph.add_edge(source,target,**edge_attrs)\n",
    "\n",
    "        # turn buttons on\n",
    "        if show_buttons:\n",
    "            if only_physics_buttons:\n",
    "                pyvis_graph.show_buttons(filter_=['physics'])\n",
    "            else:\n",
    "                pyvis_graph.show_buttons()\n",
    "\n",
    "        # return and also save\n",
    "        return pyvis_graph.show(output_filename)"
   ]
  },
  {
   "cell_type": "code",
   "execution_count": 42,
   "id": "e69f9901",
   "metadata": {},
   "outputs": [],
   "source": [
    "draw_graph3(M,output_filename='../_generated_data/Net.html', notebook=False, only_physics_buttons=True)"
   ]
  }
 ],
 "metadata": {
  "kernelspec": {
   "display_name": "Python 3 (ipykernel)",
   "language": "python",
   "name": "python3"
  },
  "language_info": {
   "codemirror_mode": {
    "name": "ipython",
    "version": 3
   },
   "file_extension": ".py",
   "mimetype": "text/x-python",
   "name": "python",
   "nbconvert_exporter": "python",
   "pygments_lexer": "ipython3",
   "version": "3.8.10"
  }
 },
 "nbformat": 4,
 "nbformat_minor": 5
}
